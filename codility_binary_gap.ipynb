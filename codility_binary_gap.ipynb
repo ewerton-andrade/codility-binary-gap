{
  "nbformat": 4,
  "nbformat_minor": 0,
  "metadata": {
    "colab": {
      "name": "codility-binary-gap.ipynb",
      "provenance": [],
      "collapsed_sections": [],
      "authorship_tag": "ABX9TyPpV0VzdvZlJ/5GiUXd+81l",
      "include_colab_link": true
    },
    "kernelspec": {
      "name": "python3",
      "display_name": "Python 3"
    },
    "language_info": {
      "name": "python"
    }
  },
  "cells": [
    {
      "cell_type": "markdown",
      "metadata": {
        "id": "view-in-github",
        "colab_type": "text"
      },
      "source": [
        "<a href=\"https://colab.research.google.com/github/ewerton-andrade/codility-binary-gap/blob/main/codility_binary_gap.ipynb\" target=\"_parent\"><img src=\"https://colab.research.google.com/assets/colab-badge.svg\" alt=\"Open In Colab\"/></a>"
      ]
    },
    {
      "cell_type": "markdown",
      "metadata": {
        "id": "tB0s8_oQwdrs"
      },
      "source": [
        "# **PYTHON CODING SERIES (CODILITY)**"
      ]
    },
    {
      "cell_type": "markdown",
      "metadata": {
        "id": "KThpaFcQ6j11"
      },
      "source": [
        "## O objetivo da série 'Codility' é exercitar a linguagem python e a lógica de programação utilizando as lições, exercícios e desafios da plataforma 'codility'."
      ]
    },
    {
      "cell_type": "markdown",
      "metadata": {
        "id": "8i1D865kfqax"
      },
      "source": [
        "## Ests série faz parte do programa de treinamentos de programação da plataforma 'Codility'. Você pode fazer uma conta e acessá-los no endereço abaixo: \n",
        "\n",
        "https://www.codility.com/\n",
        "\n",
        "## A plataforma possibilita a construção e a avaliação do código produzido de acordo com cada requisito. Existe uma série de lições, exercícios e desafios de vários níveis relacionados à programação em diversas linguagens. Meu foco aqui será resolvê-los utilizando linguagem Python. Todos os testes do código produzido devem ser realizados na própria plataforma que vai retornar um score relacionado à performance do seu código. Meu objetivo é chegar sempre em 100% do score final."
      ]
    },
    {
      "cell_type": "markdown",
      "metadata": {
        "id": "z2-HHtHc724Z"
      },
      "source": [
        "## Cada atividade possui um título que é igual ao da plataforma (acesse para saber), cada atividade também possui um problema a ser resolvido por código. Ambos, título e descrição do problema/solução serão descritos ao início e então começamos o desenvolvimento e a parte de testes até chegarmos ao código final com 100% de acerto. Não me preocuparei em traduzir o texto do problema, todos estão em inglês."
      ]
    },
    {
      "cell_type": "markdown",
      "metadata": {
        "id": "BzC9y8RtwzXL"
      },
      "source": [
        "# **Título: Binary gap**"
      ]
    },
    {
      "cell_type": "markdown",
      "metadata": {
        "id": "m30StvyZwJN6"
      },
      "source": [
        "## **Problema a ser resolvido**:\n",
        "\n",
        "## A binary gap within a positive integer N is any maximal sequence of consecutive zeros that is surrounded by ones at both ends in the binary representation of N.\n",
        "\n",
        "## For example, number 9 has binary representation 1001 and contains a binary gap of length 2. The number 529 has binary representation 1000010001 and contains two binary gaps: one of length 4 and one of length 3. The number 20 has binary representation 10100 and contains one binary gap of length 1. The number 15 has binary representation 1111 and has no binary gaps. The number 32 has binary representation 100000 and has no binary gaps.\n",
        "\n",
        "##Write a function:\n",
        "\n",
        "##def solution(N)\n",
        "\n",
        "##that, given a positive integer N, returns the length of its longest binary gap. The function should return 0 if N doesn't contain a binary gap.\n",
        "\n",
        "##For example, given N = 1041 the function should return 5, because N has binary representation 10000010001 and so its longest binary gap is of length 5. Given N = 32 the function should return 0, because N has binary representation '100000' and thus no binary gaps.\n",
        "\n",
        "##Write an efficient algorithm for the following assumptions:\n",
        "\n",
        "##N is an integer within the range [1..2,147,483,647]."
      ]
    },
    {
      "cell_type": "markdown",
      "metadata": {
        "id": "q2U3Hph48tyN"
      },
      "source": [
        "## **Problema**: Precisamos criar um código que receba um número inteiro positivo e retorne o tamanho do maior gap (zero's entre o número um) de seu equivalente binário."
      ]
    },
    {
      "cell_type": "markdown",
      "metadata": {
        "id": "lREDcoaN9N5e"
      },
      "source": [
        "# **Desenvolvimento**"
      ]
    },
    {
      "cell_type": "markdown",
      "metadata": {
        "id": "uvFIIErBGLPx"
      },
      "source": [
        "## A linguagem python oferece uma função (built-in) que transforma um número inteiro em número binário, a função 'bin'.\n",
        "\n",
        "## Ao fornecer um número inteiro, a função retorna o equivalente binário, vamos verificar o retorno da função bin para o número inteiro 529, cujo equivalente binário é 1000010001:"
      ]
    },
    {
      "cell_type": "code",
      "metadata": {
        "colab": {
          "base_uri": "https://localhost:8080/"
        },
        "id": "TVND8nN6G7BA",
        "outputId": "5e3a4ad1-be2d-49e8-db62-f1b131ce46e0"
      },
      "source": [
        "N = 529\n",
        "b = bin(N)\n",
        "print(f'O equivalente binário de {N} é igual à {b}')"
      ],
      "execution_count": null,
      "outputs": [
        {
          "output_type": "stream",
          "name": "stdout",
          "text": [
            "O equivalente binário de 529 é igual à 0b1000010001\n"
          ]
        }
      ]
    },
    {
      "cell_type": "markdown",
      "metadata": {
        "id": "5o4cHhRyHYqh"
      },
      "source": [
        "## Podemos observar uma curiosidade. Essa função não retornou apenas o equivalente binário, mas também os caracteres '0b' no início antes do equivalente binário. Podemos verificar a documentação da função bin() em : \n",
        "\n",
        "https://docs.python.org/3/library/functions.html?highlight=bin#bin\n",
        "\n",
        "## Observação: A documentação diz que esse prefixo \"0b\" sempre estará presente no retorno da função."
      ]
    },
    {
      "cell_type": "markdown",
      "metadata": {
        "id": "Cql7zS6gIztk"
      },
      "source": [
        "## Vamos verificar o tipo de dado na saída da função bin:"
      ]
    },
    {
      "cell_type": "code",
      "metadata": {
        "colab": {
          "base_uri": "https://localhost:8080/"
        },
        "id": "lnk0TXuHIxHh",
        "outputId": "47936b3f-f217-4fd9-a9b7-b2cb55a63267"
      },
      "source": [
        "print(f'O tipo de dado na saída da função bin(N) é {type(b)}')"
      ],
      "execution_count": null,
      "outputs": [
        {
          "output_type": "stream",
          "name": "stdout",
          "text": [
            "O tipo de dado na saída da função bin(N) é <class 'str'>\n"
          ]
        }
      ]
    },
    {
      "cell_type": "markdown",
      "metadata": {
        "id": "X9zPWRXEJGmY"
      },
      "source": [
        "## O dado na saída da função bin é do tipo string. Isso pode facilitar a manipulação, visto que, não quero utilizar os dois primeiros caracteres \"0b\", ou seja, posso utilizar um simples filtro de string."
      ]
    },
    {
      "cell_type": "code",
      "metadata": {
        "colab": {
          "base_uri": "https://localhost:8080/"
        },
        "id": "mMa9r-KSJW6_",
        "outputId": "beffc97c-e0c8-4f6f-9547-e55c973111de"
      },
      "source": [
        "N = 529\n",
        "b = bin(N)[2:] #Filtro que retorna os caracteres a partir da posição 2\n",
        "print(f'O equivalente binário de {N} é igual à {b}')"
      ],
      "execution_count": null,
      "outputs": [
        {
          "output_type": "stream",
          "name": "stdout",
          "text": [
            "O equivalente binário de 529 é igual à 1000010001\n"
          ]
        }
      ]
    },
    {
      "cell_type": "markdown",
      "metadata": {
        "id": "RscIEGw0JqQs"
      },
      "source": [
        "## Já demos o primeiro passo para resolver a lógica do problema: transformar um número inteiro e positivo em seu equivalente binário."
      ]
    },
    {
      "cell_type": "markdown",
      "metadata": {
        "id": "hD8x71MzKGqX"
      },
      "source": [
        "## Agora precisamos montar a lógica da contagem do maior gap, caso haja algum. Conforme o problema descrito (verificar o enunciado do problema), um 'gap binário' é quando temos o número '0' ou uma sequência de 0's seguidos entre números '1' dentro do mesmo número binário."
      ]
    },
    {
      "cell_type": "markdown",
      "metadata": {
        "id": "LHmyxIL4MQut"
      },
      "source": [
        "## Vamos testar a conversão binária de uma sequência de algarismos para tentar verificar algum padrão."
      ]
    },
    {
      "cell_type": "code",
      "metadata": {
        "colab": {
          "base_uri": "https://localhost:8080/"
        },
        "id": "YaQ6nVHLMg_s",
        "outputId": "6753678b-7340-41fd-9eed-90d516a7059d"
      },
      "source": [
        "for i in range(0, 20):\n",
        "  b = bin(i)[2:]\n",
        "  print(f'Número {i} em binário é {b}')"
      ],
      "execution_count": null,
      "outputs": [
        {
          "output_type": "stream",
          "name": "stdout",
          "text": [
            "Número 0 em binário é 0\n",
            "Número 1 em binário é 1\n",
            "Número 2 em binário é 10\n",
            "Número 3 em binário é 11\n",
            "Número 4 em binário é 100\n",
            "Número 5 em binário é 101\n",
            "Número 6 em binário é 110\n",
            "Número 7 em binário é 111\n",
            "Número 8 em binário é 1000\n",
            "Número 9 em binário é 1001\n",
            "Número 10 em binário é 1010\n",
            "Número 11 em binário é 1011\n",
            "Número 12 em binário é 1100\n",
            "Número 13 em binário é 1101\n",
            "Número 14 em binário é 1110\n",
            "Número 15 em binário é 1111\n",
            "Número 16 em binário é 10000\n",
            "Número 17 em binário é 10001\n",
            "Número 18 em binário é 10010\n",
            "Número 19 em binário é 10011\n"
          ]
        }
      ]
    },
    {
      "cell_type": "markdown",
      "metadata": {
        "id": "nPjNBW1XM6NU"
      },
      "source": [
        "## Observações: Todo número equivalente binário iniciará em 1 exceto para o equivalente binário 0. O enunciado diz que o range de números não contempla o 0 (N is an integer within the range [1..2,147,483,647]). Então podemos concluir que todos os números binários equivalentes iniciam com 1."
      ]
    },
    {
      "cell_type": "markdown",
      "metadata": {
        "id": "Ux0IX0oYOEib"
      },
      "source": [
        "## Pela lógica, uma contagem de gap válida precisa ter três elementos sequenciais e será validada apenas se essas três condições coexistirem simultaneamente ao lermos um mesmo algarismo binário da esquerda para a direita:\n",
        "\n",
        "## 1º Condição: Um algarismo \"1\" no início;\n",
        "\n",
        "## 2º Condição: Algarismo(s) zero(s) após o \"1\" inicial;\n",
        "\n",
        "## 3º Condição: Um algarismo \"1\" no final, após o(s) algarimo(s) zero(s);\n",
        "\n",
        "## Observação: Temos conceito de gap, se, e somente se tivermos essas três condições presentes na contagem."
      ]
    },
    {
      "cell_type": "markdown",
      "metadata": {
        "id": "QfehwA99QgEr"
      },
      "source": [
        "## Na lógica para identificar corretamente o(s) gap(s) binário(s) será necessário utilizar um loop que contemple essas três condições simultaneamente."
      ]
    },
    {
      "cell_type": "markdown",
      "metadata": {
        "id": "6xgmtRZnRBOI"
      },
      "source": [
        "## O loop precisa ser limitado ao tamanho do número binário, ou seja, não pode contar além ou aquém do número de algarismo de cada número. Dessa forma já temos a primeira linha da sintaxe do nosso loop de contagem de gap's. Vamos utilizar o número inteiro 1041 (1000010001) para os testes. Na saída desse código precisa ter a contagem até 10 visto que o tamanho do equivalente binário é 11."
      ]
    },
    {
      "cell_type": "code",
      "metadata": {
        "id": "-NHFyRLMRUnl",
        "colab": {
          "base_uri": "https://localhost:8080/"
        },
        "outputId": "160c06a1-917f-4c58-bf31-ac4040bd9904"
      },
      "source": [
        "N = 1041\n",
        "b = bin(N)[2:]\n",
        "for i in range(0, len(b)):\n",
        "  #Condição 1\n",
        "\n",
        "  #Condição 2\n",
        "\n",
        "  #Condição 3\n",
        "\n",
        "  print(i, end=' , ')"
      ],
      "execution_count": null,
      "outputs": [
        {
          "output_type": "stream",
          "name": "stdout",
          "text": [
            "0 , 1 , 2 , 3 , 4 , 5 , 6 , 7 , 8 , 9 , 10 , "
          ]
        }
      ]
    },
    {
      "cell_type": "markdown",
      "metadata": {
        "id": "YZSfh_yG-Hl7"
      },
      "source": [
        "## Isso acontece porque a contagem sempre inicia em 0."
      ]
    },
    {
      "cell_type": "markdown",
      "metadata": {
        "id": "3Y4BhqtJYvUf"
      },
      "source": [
        "## Agora vamos precisar inserir no loop o teste lógico das três condições para o gap binário descritas mais acima. Eu vou contar o número de zeros e só atualizar a contagem de zeros quando atender às duas condições simultaneamente: \n",
        "\n",
        "##A- Quando o algarismo for '1' \n",
        "##B- Se a quantidade de zeros contados for maior do que a contagem anterior."
      ]
    },
    {
      "cell_type": "markdown",
      "metadata": {
        "id": "7S1yr4NmJyv1"
      },
      "source": [
        "## Vamos fazer um teste para o número 1041"
      ]
    },
    {
      "cell_type": "code",
      "metadata": {
        "colab": {
          "base_uri": "https://localhost:8080/"
        },
        "id": "Ke9buOVxJOIF",
        "outputId": "e830ae22-4142-4f0b-f52d-ad2a791754ed"
      },
      "source": [
        "N = 1041\n",
        "b = bin(N)[2:]\n",
        "max_gap = 0 #variavel recebe o numero do gap maximo\n",
        "zero = 0 #variavel recebe a contagem do(s) zero(s)\n",
        "\n",
        "for i in range(0, len(b)):\n",
        "      #Conta o número de zeros\n",
        "      if b[i] == '0': #se o algarismo for zero conte um zero\n",
        "        zero += 1\n",
        "      \n",
        "      #Atualiza a contagem do gap maior, caso haja. Zera a contagem de zeros.\n",
        "      else: #se o algarismo for um\n",
        "        if zero > max_gap: #Se o gap atual for maior que o último\n",
        "          max_gap = zero #então armazene o valor do gap \n",
        "          zero = 0 #zere a contagem de zeros\n",
        "\n",
        "  \n",
        "print(f'O gap maximo do numero {N} binario {b} possui o numero de {max_gap} zero(s).')"
      ],
      "execution_count": null,
      "outputs": [
        {
          "output_type": "stream",
          "name": "stdout",
          "text": [
            "O gap maximo do numero 1041 binario 10000010001 possui o numero de 5 zero(s).\n"
          ]
        }
      ]
    },
    {
      "cell_type": "markdown",
      "metadata": {
        "id": "_5XrDsA5KQwm"
      },
      "source": [
        "## Aparentemente deu certo! Vamos testar com todos os números do range dados no problema (verificar enunciado)."
      ]
    },
    {
      "cell_type": "code",
      "metadata": {
        "colab": {
          "base_uri": "https://localhost:8080/"
        },
        "id": "pwHUG8ZNKbYA",
        "outputId": "31fa214c-0d16-47fe-802d-89184e3dd65e"
      },
      "source": [
        "#   Criando a lista de possíveis valores no range de teste ]\n",
        "# da função 1,...2,...647]\n",
        "l = list(range(648))\n",
        "print(l)"
      ],
      "execution_count": null,
      "outputs": [
        {
          "output_type": "stream",
          "name": "stdout",
          "text": [
            "[0, 1, 2, 3, 4, 5, 6, 7, 8, 9, 10, 11, 12, 13, 14, 15, 16, 17, 18, 19, 20, 21, 22, 23, 24, 25, 26, 27, 28, 29, 30, 31, 32, 33, 34, 35, 36, 37, 38, 39, 40, 41, 42, 43, 44, 45, 46, 47, 48, 49, 50, 51, 52, 53, 54, 55, 56, 57, 58, 59, 60, 61, 62, 63, 64, 65, 66, 67, 68, 69, 70, 71, 72, 73, 74, 75, 76, 77, 78, 79, 80, 81, 82, 83, 84, 85, 86, 87, 88, 89, 90, 91, 92, 93, 94, 95, 96, 97, 98, 99, 100, 101, 102, 103, 104, 105, 106, 107, 108, 109, 110, 111, 112, 113, 114, 115, 116, 117, 118, 119, 120, 121, 122, 123, 124, 125, 126, 127, 128, 129, 130, 131, 132, 133, 134, 135, 136, 137, 138, 139, 140, 141, 142, 143, 144, 145, 146, 147, 148, 149, 150, 151, 152, 153, 154, 155, 156, 157, 158, 159, 160, 161, 162, 163, 164, 165, 166, 167, 168, 169, 170, 171, 172, 173, 174, 175, 176, 177, 178, 179, 180, 181, 182, 183, 184, 185, 186, 187, 188, 189, 190, 191, 192, 193, 194, 195, 196, 197, 198, 199, 200, 201, 202, 203, 204, 205, 206, 207, 208, 209, 210, 211, 212, 213, 214, 215, 216, 217, 218, 219, 220, 221, 222, 223, 224, 225, 226, 227, 228, 229, 230, 231, 232, 233, 234, 235, 236, 237, 238, 239, 240, 241, 242, 243, 244, 245, 246, 247, 248, 249, 250, 251, 252, 253, 254, 255, 256, 257, 258, 259, 260, 261, 262, 263, 264, 265, 266, 267, 268, 269, 270, 271, 272, 273, 274, 275, 276, 277, 278, 279, 280, 281, 282, 283, 284, 285, 286, 287, 288, 289, 290, 291, 292, 293, 294, 295, 296, 297, 298, 299, 300, 301, 302, 303, 304, 305, 306, 307, 308, 309, 310, 311, 312, 313, 314, 315, 316, 317, 318, 319, 320, 321, 322, 323, 324, 325, 326, 327, 328, 329, 330, 331, 332, 333, 334, 335, 336, 337, 338, 339, 340, 341, 342, 343, 344, 345, 346, 347, 348, 349, 350, 351, 352, 353, 354, 355, 356, 357, 358, 359, 360, 361, 362, 363, 364, 365, 366, 367, 368, 369, 370, 371, 372, 373, 374, 375, 376, 377, 378, 379, 380, 381, 382, 383, 384, 385, 386, 387, 388, 389, 390, 391, 392, 393, 394, 395, 396, 397, 398, 399, 400, 401, 402, 403, 404, 405, 406, 407, 408, 409, 410, 411, 412, 413, 414, 415, 416, 417, 418, 419, 420, 421, 422, 423, 424, 425, 426, 427, 428, 429, 430, 431, 432, 433, 434, 435, 436, 437, 438, 439, 440, 441, 442, 443, 444, 445, 446, 447, 448, 449, 450, 451, 452, 453, 454, 455, 456, 457, 458, 459, 460, 461, 462, 463, 464, 465, 466, 467, 468, 469, 470, 471, 472, 473, 474, 475, 476, 477, 478, 479, 480, 481, 482, 483, 484, 485, 486, 487, 488, 489, 490, 491, 492, 493, 494, 495, 496, 497, 498, 499, 500, 501, 502, 503, 504, 505, 506, 507, 508, 509, 510, 511, 512, 513, 514, 515, 516, 517, 518, 519, 520, 521, 522, 523, 524, 525, 526, 527, 528, 529, 530, 531, 532, 533, 534, 535, 536, 537, 538, 539, 540, 541, 542, 543, 544, 545, 546, 547, 548, 549, 550, 551, 552, 553, 554, 555, 556, 557, 558, 559, 560, 561, 562, 563, 564, 565, 566, 567, 568, 569, 570, 571, 572, 573, 574, 575, 576, 577, 578, 579, 580, 581, 582, 583, 584, 585, 586, 587, 588, 589, 590, 591, 592, 593, 594, 595, 596, 597, 598, 599, 600, 601, 602, 603, 604, 605, 606, 607, 608, 609, 610, 611, 612, 613, 614, 615, 616, 617, 618, 619, 620, 621, 622, 623, 624, 625, 626, 627, 628, 629, 630, 631, 632, 633, 634, 635, 636, 637, 638, 639, 640, 641, 642, 643, 644, 645, 646, 647]\n"
          ]
        }
      ]
    },
    {
      "cell_type": "markdown",
      "metadata": {
        "id": "WDtVOaP6MI9D"
      },
      "source": [
        "## Agora vamos testar o código com todos os números possíveis no range."
      ]
    },
    {
      "cell_type": "code",
      "metadata": {
        "colab": {
          "base_uri": "https://localhost:8080/"
        },
        "id": "0Z5Wu9XWnIkV",
        "outputId": "2b9b44ac-1e36-4b93-c02b-936253cd3768"
      },
      "source": [
        "for c in l: #testa cada número inteiro por sua vez\n",
        "\n",
        "  N = c\n",
        "  b = bin(N)[2:]\n",
        "  max_gap = zero = 0\n",
        "\n",
        "  for i in range(0, len(b)):\n",
        "    #Conta o número de zeros\n",
        "    if b[i] == '0': #se o algarismo for zero conte um zero\n",
        "      zero += 1\n",
        "   \n",
        "  \n",
        "    #Atualiza a contagem do gap maior, caso haja. Zera a contagem de zeros.\n",
        "    else: #se o algarismo for um\n",
        "      if zero > max_gap: #Se o gap atual for maior que o último\n",
        "        max_gap = zero #então armazene o valor do gap \n",
        "        zero = 0 #zere a contagem de zeros\n",
        "\n",
        "  print(f'O gap maximo do numero {N} binario {b} possui o numero de {max_gap} zero(s)')"
      ],
      "execution_count": null,
      "outputs": [
        {
          "output_type": "stream",
          "name": "stdout",
          "text": [
            "O gap maximo do numero 0 binario 0 possui o numero de 0 zero(s)\n",
            "O gap maximo do numero 1 binario 1 possui o numero de 0 zero(s)\n",
            "O gap maximo do numero 2 binario 10 possui o numero de 0 zero(s)\n",
            "O gap maximo do numero 3 binario 11 possui o numero de 0 zero(s)\n",
            "O gap maximo do numero 4 binario 100 possui o numero de 0 zero(s)\n",
            "O gap maximo do numero 5 binario 101 possui o numero de 1 zero(s)\n",
            "O gap maximo do numero 6 binario 110 possui o numero de 0 zero(s)\n",
            "O gap maximo do numero 7 binario 111 possui o numero de 0 zero(s)\n",
            "O gap maximo do numero 8 binario 1000 possui o numero de 0 zero(s)\n",
            "O gap maximo do numero 9 binario 1001 possui o numero de 2 zero(s)\n",
            "O gap maximo do numero 10 binario 1010 possui o numero de 1 zero(s)\n",
            "O gap maximo do numero 11 binario 1011 possui o numero de 1 zero(s)\n",
            "O gap maximo do numero 12 binario 1100 possui o numero de 0 zero(s)\n",
            "O gap maximo do numero 13 binario 1101 possui o numero de 1 zero(s)\n",
            "O gap maximo do numero 14 binario 1110 possui o numero de 0 zero(s)\n",
            "O gap maximo do numero 15 binario 1111 possui o numero de 0 zero(s)\n",
            "O gap maximo do numero 16 binario 10000 possui o numero de 0 zero(s)\n",
            "O gap maximo do numero 17 binario 10001 possui o numero de 3 zero(s)\n",
            "O gap maximo do numero 18 binario 10010 possui o numero de 2 zero(s)\n",
            "O gap maximo do numero 19 binario 10011 possui o numero de 2 zero(s)\n",
            "O gap maximo do numero 20 binario 10100 possui o numero de 1 zero(s)\n",
            "O gap maximo do numero 21 binario 10101 possui o numero de 1 zero(s)\n",
            "O gap maximo do numero 22 binario 10110 possui o numero de 1 zero(s)\n",
            "O gap maximo do numero 23 binario 10111 possui o numero de 1 zero(s)\n",
            "O gap maximo do numero 24 binario 11000 possui o numero de 0 zero(s)\n",
            "O gap maximo do numero 25 binario 11001 possui o numero de 2 zero(s)\n",
            "O gap maximo do numero 26 binario 11010 possui o numero de 1 zero(s)\n",
            "O gap maximo do numero 27 binario 11011 possui o numero de 1 zero(s)\n",
            "O gap maximo do numero 28 binario 11100 possui o numero de 0 zero(s)\n",
            "O gap maximo do numero 29 binario 11101 possui o numero de 1 zero(s)\n",
            "O gap maximo do numero 30 binario 11110 possui o numero de 0 zero(s)\n",
            "O gap maximo do numero 31 binario 11111 possui o numero de 0 zero(s)\n",
            "O gap maximo do numero 32 binario 100000 possui o numero de 0 zero(s)\n",
            "O gap maximo do numero 33 binario 100001 possui o numero de 4 zero(s)\n",
            "O gap maximo do numero 34 binario 100010 possui o numero de 3 zero(s)\n",
            "O gap maximo do numero 35 binario 100011 possui o numero de 3 zero(s)\n",
            "O gap maximo do numero 36 binario 100100 possui o numero de 2 zero(s)\n",
            "O gap maximo do numero 37 binario 100101 possui o numero de 2 zero(s)\n",
            "O gap maximo do numero 38 binario 100110 possui o numero de 2 zero(s)\n",
            "O gap maximo do numero 39 binario 100111 possui o numero de 2 zero(s)\n",
            "O gap maximo do numero 40 binario 101000 possui o numero de 1 zero(s)\n",
            "O gap maximo do numero 41 binario 101001 possui o numero de 2 zero(s)\n",
            "O gap maximo do numero 42 binario 101010 possui o numero de 1 zero(s)\n",
            "O gap maximo do numero 43 binario 101011 possui o numero de 1 zero(s)\n",
            "O gap maximo do numero 44 binario 101100 possui o numero de 1 zero(s)\n",
            "O gap maximo do numero 45 binario 101101 possui o numero de 1 zero(s)\n",
            "O gap maximo do numero 46 binario 101110 possui o numero de 1 zero(s)\n",
            "O gap maximo do numero 47 binario 101111 possui o numero de 1 zero(s)\n",
            "O gap maximo do numero 48 binario 110000 possui o numero de 0 zero(s)\n",
            "O gap maximo do numero 49 binario 110001 possui o numero de 3 zero(s)\n",
            "O gap maximo do numero 50 binario 110010 possui o numero de 2 zero(s)\n",
            "O gap maximo do numero 51 binario 110011 possui o numero de 2 zero(s)\n",
            "O gap maximo do numero 52 binario 110100 possui o numero de 1 zero(s)\n",
            "O gap maximo do numero 53 binario 110101 possui o numero de 1 zero(s)\n",
            "O gap maximo do numero 54 binario 110110 possui o numero de 1 zero(s)\n",
            "O gap maximo do numero 55 binario 110111 possui o numero de 1 zero(s)\n",
            "O gap maximo do numero 56 binario 111000 possui o numero de 0 zero(s)\n",
            "O gap maximo do numero 57 binario 111001 possui o numero de 2 zero(s)\n",
            "O gap maximo do numero 58 binario 111010 possui o numero de 1 zero(s)\n",
            "O gap maximo do numero 59 binario 111011 possui o numero de 1 zero(s)\n",
            "O gap maximo do numero 60 binario 111100 possui o numero de 0 zero(s)\n",
            "O gap maximo do numero 61 binario 111101 possui o numero de 1 zero(s)\n",
            "O gap maximo do numero 62 binario 111110 possui o numero de 0 zero(s)\n",
            "O gap maximo do numero 63 binario 111111 possui o numero de 0 zero(s)\n",
            "O gap maximo do numero 64 binario 1000000 possui o numero de 0 zero(s)\n",
            "O gap maximo do numero 65 binario 1000001 possui o numero de 5 zero(s)\n",
            "O gap maximo do numero 66 binario 1000010 possui o numero de 4 zero(s)\n",
            "O gap maximo do numero 67 binario 1000011 possui o numero de 4 zero(s)\n",
            "O gap maximo do numero 68 binario 1000100 possui o numero de 3 zero(s)\n",
            "O gap maximo do numero 69 binario 1000101 possui o numero de 3 zero(s)\n",
            "O gap maximo do numero 70 binario 1000110 possui o numero de 3 zero(s)\n",
            "O gap maximo do numero 71 binario 1000111 possui o numero de 3 zero(s)\n",
            "O gap maximo do numero 72 binario 1001000 possui o numero de 2 zero(s)\n",
            "O gap maximo do numero 73 binario 1001001 possui o numero de 2 zero(s)\n",
            "O gap maximo do numero 74 binario 1001010 possui o numero de 2 zero(s)\n",
            "O gap maximo do numero 75 binario 1001011 possui o numero de 2 zero(s)\n",
            "O gap maximo do numero 76 binario 1001100 possui o numero de 2 zero(s)\n",
            "O gap maximo do numero 77 binario 1001101 possui o numero de 2 zero(s)\n",
            "O gap maximo do numero 78 binario 1001110 possui o numero de 2 zero(s)\n",
            "O gap maximo do numero 79 binario 1001111 possui o numero de 2 zero(s)\n",
            "O gap maximo do numero 80 binario 1010000 possui o numero de 1 zero(s)\n",
            "O gap maximo do numero 81 binario 1010001 possui o numero de 3 zero(s)\n",
            "O gap maximo do numero 82 binario 1010010 possui o numero de 2 zero(s)\n",
            "O gap maximo do numero 83 binario 1010011 possui o numero de 2 zero(s)\n",
            "O gap maximo do numero 84 binario 1010100 possui o numero de 1 zero(s)\n",
            "O gap maximo do numero 85 binario 1010101 possui o numero de 2 zero(s)\n",
            "O gap maximo do numero 86 binario 1010110 possui o numero de 1 zero(s)\n",
            "O gap maximo do numero 87 binario 1010111 possui o numero de 1 zero(s)\n",
            "O gap maximo do numero 88 binario 1011000 possui o numero de 1 zero(s)\n",
            "O gap maximo do numero 89 binario 1011001 possui o numero de 2 zero(s)\n",
            "O gap maximo do numero 90 binario 1011010 possui o numero de 1 zero(s)\n",
            "O gap maximo do numero 91 binario 1011011 possui o numero de 1 zero(s)\n",
            "O gap maximo do numero 92 binario 1011100 possui o numero de 1 zero(s)\n",
            "O gap maximo do numero 93 binario 1011101 possui o numero de 1 zero(s)\n",
            "O gap maximo do numero 94 binario 1011110 possui o numero de 1 zero(s)\n",
            "O gap maximo do numero 95 binario 1011111 possui o numero de 1 zero(s)\n",
            "O gap maximo do numero 96 binario 1100000 possui o numero de 0 zero(s)\n",
            "O gap maximo do numero 97 binario 1100001 possui o numero de 4 zero(s)\n",
            "O gap maximo do numero 98 binario 1100010 possui o numero de 3 zero(s)\n",
            "O gap maximo do numero 99 binario 1100011 possui o numero de 3 zero(s)\n",
            "O gap maximo do numero 100 binario 1100100 possui o numero de 2 zero(s)\n",
            "O gap maximo do numero 101 binario 1100101 possui o numero de 2 zero(s)\n",
            "O gap maximo do numero 102 binario 1100110 possui o numero de 2 zero(s)\n",
            "O gap maximo do numero 103 binario 1100111 possui o numero de 2 zero(s)\n",
            "O gap maximo do numero 104 binario 1101000 possui o numero de 1 zero(s)\n",
            "O gap maximo do numero 105 binario 1101001 possui o numero de 2 zero(s)\n",
            "O gap maximo do numero 106 binario 1101010 possui o numero de 1 zero(s)\n",
            "O gap maximo do numero 107 binario 1101011 possui o numero de 1 zero(s)\n",
            "O gap maximo do numero 108 binario 1101100 possui o numero de 1 zero(s)\n",
            "O gap maximo do numero 109 binario 1101101 possui o numero de 1 zero(s)\n",
            "O gap maximo do numero 110 binario 1101110 possui o numero de 1 zero(s)\n",
            "O gap maximo do numero 111 binario 1101111 possui o numero de 1 zero(s)\n",
            "O gap maximo do numero 112 binario 1110000 possui o numero de 0 zero(s)\n",
            "O gap maximo do numero 113 binario 1110001 possui o numero de 3 zero(s)\n",
            "O gap maximo do numero 114 binario 1110010 possui o numero de 2 zero(s)\n",
            "O gap maximo do numero 115 binario 1110011 possui o numero de 2 zero(s)\n",
            "O gap maximo do numero 116 binario 1110100 possui o numero de 1 zero(s)\n",
            "O gap maximo do numero 117 binario 1110101 possui o numero de 1 zero(s)\n",
            "O gap maximo do numero 118 binario 1110110 possui o numero de 1 zero(s)\n",
            "O gap maximo do numero 119 binario 1110111 possui o numero de 1 zero(s)\n",
            "O gap maximo do numero 120 binario 1111000 possui o numero de 0 zero(s)\n",
            "O gap maximo do numero 121 binario 1111001 possui o numero de 2 zero(s)\n",
            "O gap maximo do numero 122 binario 1111010 possui o numero de 1 zero(s)\n",
            "O gap maximo do numero 123 binario 1111011 possui o numero de 1 zero(s)\n",
            "O gap maximo do numero 124 binario 1111100 possui o numero de 0 zero(s)\n",
            "O gap maximo do numero 125 binario 1111101 possui o numero de 1 zero(s)\n",
            "O gap maximo do numero 126 binario 1111110 possui o numero de 0 zero(s)\n",
            "O gap maximo do numero 127 binario 1111111 possui o numero de 0 zero(s)\n",
            "O gap maximo do numero 128 binario 10000000 possui o numero de 0 zero(s)\n",
            "O gap maximo do numero 129 binario 10000001 possui o numero de 6 zero(s)\n",
            "O gap maximo do numero 130 binario 10000010 possui o numero de 5 zero(s)\n",
            "O gap maximo do numero 131 binario 10000011 possui o numero de 5 zero(s)\n",
            "O gap maximo do numero 132 binario 10000100 possui o numero de 4 zero(s)\n",
            "O gap maximo do numero 133 binario 10000101 possui o numero de 4 zero(s)\n",
            "O gap maximo do numero 134 binario 10000110 possui o numero de 4 zero(s)\n",
            "O gap maximo do numero 135 binario 10000111 possui o numero de 4 zero(s)\n",
            "O gap maximo do numero 136 binario 10001000 possui o numero de 3 zero(s)\n",
            "O gap maximo do numero 137 binario 10001001 possui o numero de 3 zero(s)\n",
            "O gap maximo do numero 138 binario 10001010 possui o numero de 3 zero(s)\n",
            "O gap maximo do numero 139 binario 10001011 possui o numero de 3 zero(s)\n",
            "O gap maximo do numero 140 binario 10001100 possui o numero de 3 zero(s)\n",
            "O gap maximo do numero 141 binario 10001101 possui o numero de 3 zero(s)\n",
            "O gap maximo do numero 142 binario 10001110 possui o numero de 3 zero(s)\n",
            "O gap maximo do numero 143 binario 10001111 possui o numero de 3 zero(s)\n",
            "O gap maximo do numero 144 binario 10010000 possui o numero de 2 zero(s)\n",
            "O gap maximo do numero 145 binario 10010001 possui o numero de 3 zero(s)\n",
            "O gap maximo do numero 146 binario 10010010 possui o numero de 2 zero(s)\n",
            "O gap maximo do numero 147 binario 10010011 possui o numero de 2 zero(s)\n",
            "O gap maximo do numero 148 binario 10010100 possui o numero de 2 zero(s)\n",
            "O gap maximo do numero 149 binario 10010101 possui o numero de 2 zero(s)\n",
            "O gap maximo do numero 150 binario 10010110 possui o numero de 2 zero(s)\n",
            "O gap maximo do numero 151 binario 10010111 possui o numero de 2 zero(s)\n",
            "O gap maximo do numero 152 binario 10011000 possui o numero de 2 zero(s)\n",
            "O gap maximo do numero 153 binario 10011001 possui o numero de 2 zero(s)\n",
            "O gap maximo do numero 154 binario 10011010 possui o numero de 2 zero(s)\n",
            "O gap maximo do numero 155 binario 10011011 possui o numero de 2 zero(s)\n",
            "O gap maximo do numero 156 binario 10011100 possui o numero de 2 zero(s)\n",
            "O gap maximo do numero 157 binario 10011101 possui o numero de 2 zero(s)\n",
            "O gap maximo do numero 158 binario 10011110 possui o numero de 2 zero(s)\n",
            "O gap maximo do numero 159 binario 10011111 possui o numero de 2 zero(s)\n",
            "O gap maximo do numero 160 binario 10100000 possui o numero de 1 zero(s)\n",
            "O gap maximo do numero 161 binario 10100001 possui o numero de 4 zero(s)\n",
            "O gap maximo do numero 162 binario 10100010 possui o numero de 3 zero(s)\n",
            "O gap maximo do numero 163 binario 10100011 possui o numero de 3 zero(s)\n",
            "O gap maximo do numero 164 binario 10100100 possui o numero de 2 zero(s)\n",
            "O gap maximo do numero 165 binario 10100101 possui o numero de 2 zero(s)\n",
            "O gap maximo do numero 166 binario 10100110 possui o numero de 2 zero(s)\n",
            "O gap maximo do numero 167 binario 10100111 possui o numero de 2 zero(s)\n",
            "O gap maximo do numero 168 binario 10101000 possui o numero de 1 zero(s)\n",
            "O gap maximo do numero 169 binario 10101001 possui o numero de 3 zero(s)\n",
            "O gap maximo do numero 170 binario 10101010 possui o numero de 2 zero(s)\n",
            "O gap maximo do numero 171 binario 10101011 possui o numero de 2 zero(s)\n",
            "O gap maximo do numero 172 binario 10101100 possui o numero de 1 zero(s)\n",
            "O gap maximo do numero 173 binario 10101101 possui o numero de 2 zero(s)\n",
            "O gap maximo do numero 174 binario 10101110 possui o numero de 1 zero(s)\n",
            "O gap maximo do numero 175 binario 10101111 possui o numero de 1 zero(s)\n",
            "O gap maximo do numero 176 binario 10110000 possui o numero de 1 zero(s)\n",
            "O gap maximo do numero 177 binario 10110001 possui o numero de 3 zero(s)\n",
            "O gap maximo do numero 178 binario 10110010 possui o numero de 2 zero(s)\n",
            "O gap maximo do numero 179 binario 10110011 possui o numero de 2 zero(s)\n",
            "O gap maximo do numero 180 binario 10110100 possui o numero de 1 zero(s)\n",
            "O gap maximo do numero 181 binario 10110101 possui o numero de 2 zero(s)\n",
            "O gap maximo do numero 182 binario 10110110 possui o numero de 1 zero(s)\n",
            "O gap maximo do numero 183 binario 10110111 possui o numero de 1 zero(s)\n",
            "O gap maximo do numero 184 binario 10111000 possui o numero de 1 zero(s)\n",
            "O gap maximo do numero 185 binario 10111001 possui o numero de 2 zero(s)\n",
            "O gap maximo do numero 186 binario 10111010 possui o numero de 1 zero(s)\n",
            "O gap maximo do numero 187 binario 10111011 possui o numero de 1 zero(s)\n",
            "O gap maximo do numero 188 binario 10111100 possui o numero de 1 zero(s)\n",
            "O gap maximo do numero 189 binario 10111101 possui o numero de 1 zero(s)\n",
            "O gap maximo do numero 190 binario 10111110 possui o numero de 1 zero(s)\n",
            "O gap maximo do numero 191 binario 10111111 possui o numero de 1 zero(s)\n",
            "O gap maximo do numero 192 binario 11000000 possui o numero de 0 zero(s)\n",
            "O gap maximo do numero 193 binario 11000001 possui o numero de 5 zero(s)\n",
            "O gap maximo do numero 194 binario 11000010 possui o numero de 4 zero(s)\n",
            "O gap maximo do numero 195 binario 11000011 possui o numero de 4 zero(s)\n",
            "O gap maximo do numero 196 binario 11000100 possui o numero de 3 zero(s)\n",
            "O gap maximo do numero 197 binario 11000101 possui o numero de 3 zero(s)\n",
            "O gap maximo do numero 198 binario 11000110 possui o numero de 3 zero(s)\n",
            "O gap maximo do numero 199 binario 11000111 possui o numero de 3 zero(s)\n",
            "O gap maximo do numero 200 binario 11001000 possui o numero de 2 zero(s)\n",
            "O gap maximo do numero 201 binario 11001001 possui o numero de 2 zero(s)\n",
            "O gap maximo do numero 202 binario 11001010 possui o numero de 2 zero(s)\n",
            "O gap maximo do numero 203 binario 11001011 possui o numero de 2 zero(s)\n",
            "O gap maximo do numero 204 binario 11001100 possui o numero de 2 zero(s)\n",
            "O gap maximo do numero 205 binario 11001101 possui o numero de 2 zero(s)\n",
            "O gap maximo do numero 206 binario 11001110 possui o numero de 2 zero(s)\n",
            "O gap maximo do numero 207 binario 11001111 possui o numero de 2 zero(s)\n",
            "O gap maximo do numero 208 binario 11010000 possui o numero de 1 zero(s)\n",
            "O gap maximo do numero 209 binario 11010001 possui o numero de 3 zero(s)\n",
            "O gap maximo do numero 210 binario 11010010 possui o numero de 2 zero(s)\n",
            "O gap maximo do numero 211 binario 11010011 possui o numero de 2 zero(s)\n",
            "O gap maximo do numero 212 binario 11010100 possui o numero de 1 zero(s)\n",
            "O gap maximo do numero 213 binario 11010101 possui o numero de 2 zero(s)\n",
            "O gap maximo do numero 214 binario 11010110 possui o numero de 1 zero(s)\n",
            "O gap maximo do numero 215 binario 11010111 possui o numero de 1 zero(s)\n",
            "O gap maximo do numero 216 binario 11011000 possui o numero de 1 zero(s)\n",
            "O gap maximo do numero 217 binario 11011001 possui o numero de 2 zero(s)\n",
            "O gap maximo do numero 218 binario 11011010 possui o numero de 1 zero(s)\n",
            "O gap maximo do numero 219 binario 11011011 possui o numero de 1 zero(s)\n",
            "O gap maximo do numero 220 binario 11011100 possui o numero de 1 zero(s)\n",
            "O gap maximo do numero 221 binario 11011101 possui o numero de 1 zero(s)\n",
            "O gap maximo do numero 222 binario 11011110 possui o numero de 1 zero(s)\n",
            "O gap maximo do numero 223 binario 11011111 possui o numero de 1 zero(s)\n",
            "O gap maximo do numero 224 binario 11100000 possui o numero de 0 zero(s)\n",
            "O gap maximo do numero 225 binario 11100001 possui o numero de 4 zero(s)\n",
            "O gap maximo do numero 226 binario 11100010 possui o numero de 3 zero(s)\n",
            "O gap maximo do numero 227 binario 11100011 possui o numero de 3 zero(s)\n",
            "O gap maximo do numero 228 binario 11100100 possui o numero de 2 zero(s)\n",
            "O gap maximo do numero 229 binario 11100101 possui o numero de 2 zero(s)\n",
            "O gap maximo do numero 230 binario 11100110 possui o numero de 2 zero(s)\n",
            "O gap maximo do numero 231 binario 11100111 possui o numero de 2 zero(s)\n",
            "O gap maximo do numero 232 binario 11101000 possui o numero de 1 zero(s)\n",
            "O gap maximo do numero 233 binario 11101001 possui o numero de 2 zero(s)\n",
            "O gap maximo do numero 234 binario 11101010 possui o numero de 1 zero(s)\n",
            "O gap maximo do numero 235 binario 11101011 possui o numero de 1 zero(s)\n",
            "O gap maximo do numero 236 binario 11101100 possui o numero de 1 zero(s)\n",
            "O gap maximo do numero 237 binario 11101101 possui o numero de 1 zero(s)\n",
            "O gap maximo do numero 238 binario 11101110 possui o numero de 1 zero(s)\n",
            "O gap maximo do numero 239 binario 11101111 possui o numero de 1 zero(s)\n",
            "O gap maximo do numero 240 binario 11110000 possui o numero de 0 zero(s)\n",
            "O gap maximo do numero 241 binario 11110001 possui o numero de 3 zero(s)\n",
            "O gap maximo do numero 242 binario 11110010 possui o numero de 2 zero(s)\n",
            "O gap maximo do numero 243 binario 11110011 possui o numero de 2 zero(s)\n",
            "O gap maximo do numero 244 binario 11110100 possui o numero de 1 zero(s)\n",
            "O gap maximo do numero 245 binario 11110101 possui o numero de 1 zero(s)\n",
            "O gap maximo do numero 246 binario 11110110 possui o numero de 1 zero(s)\n",
            "O gap maximo do numero 247 binario 11110111 possui o numero de 1 zero(s)\n",
            "O gap maximo do numero 248 binario 11111000 possui o numero de 0 zero(s)\n",
            "O gap maximo do numero 249 binario 11111001 possui o numero de 2 zero(s)\n",
            "O gap maximo do numero 250 binario 11111010 possui o numero de 1 zero(s)\n",
            "O gap maximo do numero 251 binario 11111011 possui o numero de 1 zero(s)\n",
            "O gap maximo do numero 252 binario 11111100 possui o numero de 0 zero(s)\n",
            "O gap maximo do numero 253 binario 11111101 possui o numero de 1 zero(s)\n",
            "O gap maximo do numero 254 binario 11111110 possui o numero de 0 zero(s)\n",
            "O gap maximo do numero 255 binario 11111111 possui o numero de 0 zero(s)\n",
            "O gap maximo do numero 256 binario 100000000 possui o numero de 0 zero(s)\n",
            "O gap maximo do numero 257 binario 100000001 possui o numero de 7 zero(s)\n",
            "O gap maximo do numero 258 binario 100000010 possui o numero de 6 zero(s)\n",
            "O gap maximo do numero 259 binario 100000011 possui o numero de 6 zero(s)\n",
            "O gap maximo do numero 260 binario 100000100 possui o numero de 5 zero(s)\n",
            "O gap maximo do numero 261 binario 100000101 possui o numero de 5 zero(s)\n",
            "O gap maximo do numero 262 binario 100000110 possui o numero de 5 zero(s)\n",
            "O gap maximo do numero 263 binario 100000111 possui o numero de 5 zero(s)\n",
            "O gap maximo do numero 264 binario 100001000 possui o numero de 4 zero(s)\n",
            "O gap maximo do numero 265 binario 100001001 possui o numero de 4 zero(s)\n",
            "O gap maximo do numero 266 binario 100001010 possui o numero de 4 zero(s)\n",
            "O gap maximo do numero 267 binario 100001011 possui o numero de 4 zero(s)\n",
            "O gap maximo do numero 268 binario 100001100 possui o numero de 4 zero(s)\n",
            "O gap maximo do numero 269 binario 100001101 possui o numero de 4 zero(s)\n",
            "O gap maximo do numero 270 binario 100001110 possui o numero de 4 zero(s)\n",
            "O gap maximo do numero 271 binario 100001111 possui o numero de 4 zero(s)\n",
            "O gap maximo do numero 272 binario 100010000 possui o numero de 3 zero(s)\n",
            "O gap maximo do numero 273 binario 100010001 possui o numero de 3 zero(s)\n",
            "O gap maximo do numero 274 binario 100010010 possui o numero de 3 zero(s)\n",
            "O gap maximo do numero 275 binario 100010011 possui o numero de 3 zero(s)\n",
            "O gap maximo do numero 276 binario 100010100 possui o numero de 3 zero(s)\n",
            "O gap maximo do numero 277 binario 100010101 possui o numero de 3 zero(s)\n",
            "O gap maximo do numero 278 binario 100010110 possui o numero de 3 zero(s)\n",
            "O gap maximo do numero 279 binario 100010111 possui o numero de 3 zero(s)\n",
            "O gap maximo do numero 280 binario 100011000 possui o numero de 3 zero(s)\n",
            "O gap maximo do numero 281 binario 100011001 possui o numero de 3 zero(s)\n",
            "O gap maximo do numero 282 binario 100011010 possui o numero de 3 zero(s)\n",
            "O gap maximo do numero 283 binario 100011011 possui o numero de 3 zero(s)\n",
            "O gap maximo do numero 284 binario 100011100 possui o numero de 3 zero(s)\n",
            "O gap maximo do numero 285 binario 100011101 possui o numero de 3 zero(s)\n",
            "O gap maximo do numero 286 binario 100011110 possui o numero de 3 zero(s)\n",
            "O gap maximo do numero 287 binario 100011111 possui o numero de 3 zero(s)\n",
            "O gap maximo do numero 288 binario 100100000 possui o numero de 2 zero(s)\n",
            "O gap maximo do numero 289 binario 100100001 possui o numero de 4 zero(s)\n",
            "O gap maximo do numero 290 binario 100100010 possui o numero de 3 zero(s)\n",
            "O gap maximo do numero 291 binario 100100011 possui o numero de 3 zero(s)\n",
            "O gap maximo do numero 292 binario 100100100 possui o numero de 2 zero(s)\n",
            "O gap maximo do numero 293 binario 100100101 possui o numero de 3 zero(s)\n",
            "O gap maximo do numero 294 binario 100100110 possui o numero de 2 zero(s)\n",
            "O gap maximo do numero 295 binario 100100111 possui o numero de 2 zero(s)\n",
            "O gap maximo do numero 296 binario 100101000 possui o numero de 2 zero(s)\n",
            "O gap maximo do numero 297 binario 100101001 possui o numero de 3 zero(s)\n",
            "O gap maximo do numero 298 binario 100101010 possui o numero de 2 zero(s)\n",
            "O gap maximo do numero 299 binario 100101011 possui o numero de 2 zero(s)\n",
            "O gap maximo do numero 300 binario 100101100 possui o numero de 2 zero(s)\n",
            "O gap maximo do numero 301 binario 100101101 possui o numero de 2 zero(s)\n",
            "O gap maximo do numero 302 binario 100101110 possui o numero de 2 zero(s)\n",
            "O gap maximo do numero 303 binario 100101111 possui o numero de 2 zero(s)\n",
            "O gap maximo do numero 304 binario 100110000 possui o numero de 2 zero(s)\n",
            "O gap maximo do numero 305 binario 100110001 possui o numero de 3 zero(s)\n",
            "O gap maximo do numero 306 binario 100110010 possui o numero de 2 zero(s)\n",
            "O gap maximo do numero 307 binario 100110011 possui o numero de 2 zero(s)\n",
            "O gap maximo do numero 308 binario 100110100 possui o numero de 2 zero(s)\n",
            "O gap maximo do numero 309 binario 100110101 possui o numero de 2 zero(s)\n",
            "O gap maximo do numero 310 binario 100110110 possui o numero de 2 zero(s)\n",
            "O gap maximo do numero 311 binario 100110111 possui o numero de 2 zero(s)\n",
            "O gap maximo do numero 312 binario 100111000 possui o numero de 2 zero(s)\n",
            "O gap maximo do numero 313 binario 100111001 possui o numero de 2 zero(s)\n",
            "O gap maximo do numero 314 binario 100111010 possui o numero de 2 zero(s)\n",
            "O gap maximo do numero 315 binario 100111011 possui o numero de 2 zero(s)\n",
            "O gap maximo do numero 316 binario 100111100 possui o numero de 2 zero(s)\n",
            "O gap maximo do numero 317 binario 100111101 possui o numero de 2 zero(s)\n",
            "O gap maximo do numero 318 binario 100111110 possui o numero de 2 zero(s)\n",
            "O gap maximo do numero 319 binario 100111111 possui o numero de 2 zero(s)\n",
            "O gap maximo do numero 320 binario 101000000 possui o numero de 1 zero(s)\n",
            "O gap maximo do numero 321 binario 101000001 possui o numero de 5 zero(s)\n",
            "O gap maximo do numero 322 binario 101000010 possui o numero de 4 zero(s)\n",
            "O gap maximo do numero 323 binario 101000011 possui o numero de 4 zero(s)\n",
            "O gap maximo do numero 324 binario 101000100 possui o numero de 3 zero(s)\n",
            "O gap maximo do numero 325 binario 101000101 possui o numero de 3 zero(s)\n",
            "O gap maximo do numero 326 binario 101000110 possui o numero de 3 zero(s)\n",
            "O gap maximo do numero 327 binario 101000111 possui o numero de 3 zero(s)\n",
            "O gap maximo do numero 328 binario 101001000 possui o numero de 2 zero(s)\n",
            "O gap maximo do numero 329 binario 101001001 possui o numero de 2 zero(s)\n",
            "O gap maximo do numero 330 binario 101001010 possui o numero de 2 zero(s)\n",
            "O gap maximo do numero 331 binario 101001011 possui o numero de 2 zero(s)\n",
            "O gap maximo do numero 332 binario 101001100 possui o numero de 2 zero(s)\n",
            "O gap maximo do numero 333 binario 101001101 possui o numero de 2 zero(s)\n",
            "O gap maximo do numero 334 binario 101001110 possui o numero de 2 zero(s)\n",
            "O gap maximo do numero 335 binario 101001111 possui o numero de 2 zero(s)\n",
            "O gap maximo do numero 336 binario 101010000 possui o numero de 1 zero(s)\n",
            "O gap maximo do numero 337 binario 101010001 possui o numero de 4 zero(s)\n",
            "O gap maximo do numero 338 binario 101010010 possui o numero de 3 zero(s)\n",
            "O gap maximo do numero 339 binario 101010011 possui o numero de 3 zero(s)\n",
            "O gap maximo do numero 340 binario 101010100 possui o numero de 2 zero(s)\n",
            "O gap maximo do numero 341 binario 101010101 possui o numero de 2 zero(s)\n",
            "O gap maximo do numero 342 binario 101010110 possui o numero de 2 zero(s)\n",
            "O gap maximo do numero 343 binario 101010111 possui o numero de 2 zero(s)\n",
            "O gap maximo do numero 344 binario 101011000 possui o numero de 1 zero(s)\n",
            "O gap maximo do numero 345 binario 101011001 possui o numero de 3 zero(s)\n",
            "O gap maximo do numero 346 binario 101011010 possui o numero de 2 zero(s)\n",
            "O gap maximo do numero 347 binario 101011011 possui o numero de 2 zero(s)\n",
            "O gap maximo do numero 348 binario 101011100 possui o numero de 1 zero(s)\n",
            "O gap maximo do numero 349 binario 101011101 possui o numero de 2 zero(s)\n",
            "O gap maximo do numero 350 binario 101011110 possui o numero de 1 zero(s)\n",
            "O gap maximo do numero 351 binario 101011111 possui o numero de 1 zero(s)\n",
            "O gap maximo do numero 352 binario 101100000 possui o numero de 1 zero(s)\n",
            "O gap maximo do numero 353 binario 101100001 possui o numero de 4 zero(s)\n",
            "O gap maximo do numero 354 binario 101100010 possui o numero de 3 zero(s)\n",
            "O gap maximo do numero 355 binario 101100011 possui o numero de 3 zero(s)\n",
            "O gap maximo do numero 356 binario 101100100 possui o numero de 2 zero(s)\n",
            "O gap maximo do numero 357 binario 101100101 possui o numero de 2 zero(s)\n",
            "O gap maximo do numero 358 binario 101100110 possui o numero de 2 zero(s)\n",
            "O gap maximo do numero 359 binario 101100111 possui o numero de 2 zero(s)\n",
            "O gap maximo do numero 360 binario 101101000 possui o numero de 1 zero(s)\n",
            "O gap maximo do numero 361 binario 101101001 possui o numero de 3 zero(s)\n",
            "O gap maximo do numero 362 binario 101101010 possui o numero de 2 zero(s)\n",
            "O gap maximo do numero 363 binario 101101011 possui o numero de 2 zero(s)\n",
            "O gap maximo do numero 364 binario 101101100 possui o numero de 1 zero(s)\n",
            "O gap maximo do numero 365 binario 101101101 possui o numero de 2 zero(s)\n",
            "O gap maximo do numero 366 binario 101101110 possui o numero de 1 zero(s)\n",
            "O gap maximo do numero 367 binario 101101111 possui o numero de 1 zero(s)\n",
            "O gap maximo do numero 368 binario 101110000 possui o numero de 1 zero(s)\n",
            "O gap maximo do numero 369 binario 101110001 possui o numero de 3 zero(s)\n",
            "O gap maximo do numero 370 binario 101110010 possui o numero de 2 zero(s)\n",
            "O gap maximo do numero 371 binario 101110011 possui o numero de 2 zero(s)\n",
            "O gap maximo do numero 372 binario 101110100 possui o numero de 1 zero(s)\n",
            "O gap maximo do numero 373 binario 101110101 possui o numero de 2 zero(s)\n",
            "O gap maximo do numero 374 binario 101110110 possui o numero de 1 zero(s)\n",
            "O gap maximo do numero 375 binario 101110111 possui o numero de 1 zero(s)\n",
            "O gap maximo do numero 376 binario 101111000 possui o numero de 1 zero(s)\n",
            "O gap maximo do numero 377 binario 101111001 possui o numero de 2 zero(s)\n",
            "O gap maximo do numero 378 binario 101111010 possui o numero de 1 zero(s)\n",
            "O gap maximo do numero 379 binario 101111011 possui o numero de 1 zero(s)\n",
            "O gap maximo do numero 380 binario 101111100 possui o numero de 1 zero(s)\n",
            "O gap maximo do numero 381 binario 101111101 possui o numero de 1 zero(s)\n",
            "O gap maximo do numero 382 binario 101111110 possui o numero de 1 zero(s)\n",
            "O gap maximo do numero 383 binario 101111111 possui o numero de 1 zero(s)\n",
            "O gap maximo do numero 384 binario 110000000 possui o numero de 0 zero(s)\n",
            "O gap maximo do numero 385 binario 110000001 possui o numero de 6 zero(s)\n",
            "O gap maximo do numero 386 binario 110000010 possui o numero de 5 zero(s)\n",
            "O gap maximo do numero 387 binario 110000011 possui o numero de 5 zero(s)\n",
            "O gap maximo do numero 388 binario 110000100 possui o numero de 4 zero(s)\n",
            "O gap maximo do numero 389 binario 110000101 possui o numero de 4 zero(s)\n",
            "O gap maximo do numero 390 binario 110000110 possui o numero de 4 zero(s)\n",
            "O gap maximo do numero 391 binario 110000111 possui o numero de 4 zero(s)\n",
            "O gap maximo do numero 392 binario 110001000 possui o numero de 3 zero(s)\n",
            "O gap maximo do numero 393 binario 110001001 possui o numero de 3 zero(s)\n",
            "O gap maximo do numero 394 binario 110001010 possui o numero de 3 zero(s)\n",
            "O gap maximo do numero 395 binario 110001011 possui o numero de 3 zero(s)\n",
            "O gap maximo do numero 396 binario 110001100 possui o numero de 3 zero(s)\n",
            "O gap maximo do numero 397 binario 110001101 possui o numero de 3 zero(s)\n",
            "O gap maximo do numero 398 binario 110001110 possui o numero de 3 zero(s)\n",
            "O gap maximo do numero 399 binario 110001111 possui o numero de 3 zero(s)\n",
            "O gap maximo do numero 400 binario 110010000 possui o numero de 2 zero(s)\n",
            "O gap maximo do numero 401 binario 110010001 possui o numero de 3 zero(s)\n",
            "O gap maximo do numero 402 binario 110010010 possui o numero de 2 zero(s)\n",
            "O gap maximo do numero 403 binario 110010011 possui o numero de 2 zero(s)\n",
            "O gap maximo do numero 404 binario 110010100 possui o numero de 2 zero(s)\n",
            "O gap maximo do numero 405 binario 110010101 possui o numero de 2 zero(s)\n",
            "O gap maximo do numero 406 binario 110010110 possui o numero de 2 zero(s)\n",
            "O gap maximo do numero 407 binario 110010111 possui o numero de 2 zero(s)\n",
            "O gap maximo do numero 408 binario 110011000 possui o numero de 2 zero(s)\n",
            "O gap maximo do numero 409 binario 110011001 possui o numero de 2 zero(s)\n",
            "O gap maximo do numero 410 binario 110011010 possui o numero de 2 zero(s)\n",
            "O gap maximo do numero 411 binario 110011011 possui o numero de 2 zero(s)\n",
            "O gap maximo do numero 412 binario 110011100 possui o numero de 2 zero(s)\n",
            "O gap maximo do numero 413 binario 110011101 possui o numero de 2 zero(s)\n",
            "O gap maximo do numero 414 binario 110011110 possui o numero de 2 zero(s)\n",
            "O gap maximo do numero 415 binario 110011111 possui o numero de 2 zero(s)\n",
            "O gap maximo do numero 416 binario 110100000 possui o numero de 1 zero(s)\n",
            "O gap maximo do numero 417 binario 110100001 possui o numero de 4 zero(s)\n",
            "O gap maximo do numero 418 binario 110100010 possui o numero de 3 zero(s)\n",
            "O gap maximo do numero 419 binario 110100011 possui o numero de 3 zero(s)\n",
            "O gap maximo do numero 420 binario 110100100 possui o numero de 2 zero(s)\n",
            "O gap maximo do numero 421 binario 110100101 possui o numero de 2 zero(s)\n",
            "O gap maximo do numero 422 binario 110100110 possui o numero de 2 zero(s)\n",
            "O gap maximo do numero 423 binario 110100111 possui o numero de 2 zero(s)\n",
            "O gap maximo do numero 424 binario 110101000 possui o numero de 1 zero(s)\n",
            "O gap maximo do numero 425 binario 110101001 possui o numero de 3 zero(s)\n",
            "O gap maximo do numero 426 binario 110101010 possui o numero de 2 zero(s)\n",
            "O gap maximo do numero 427 binario 110101011 possui o numero de 2 zero(s)\n",
            "O gap maximo do numero 428 binario 110101100 possui o numero de 1 zero(s)\n",
            "O gap maximo do numero 429 binario 110101101 possui o numero de 2 zero(s)\n",
            "O gap maximo do numero 430 binario 110101110 possui o numero de 1 zero(s)\n",
            "O gap maximo do numero 431 binario 110101111 possui o numero de 1 zero(s)\n",
            "O gap maximo do numero 432 binario 110110000 possui o numero de 1 zero(s)\n",
            "O gap maximo do numero 433 binario 110110001 possui o numero de 3 zero(s)\n",
            "O gap maximo do numero 434 binario 110110010 possui o numero de 2 zero(s)\n",
            "O gap maximo do numero 435 binario 110110011 possui o numero de 2 zero(s)\n",
            "O gap maximo do numero 436 binario 110110100 possui o numero de 1 zero(s)\n",
            "O gap maximo do numero 437 binario 110110101 possui o numero de 2 zero(s)\n",
            "O gap maximo do numero 438 binario 110110110 possui o numero de 1 zero(s)\n",
            "O gap maximo do numero 439 binario 110110111 possui o numero de 1 zero(s)\n",
            "O gap maximo do numero 440 binario 110111000 possui o numero de 1 zero(s)\n",
            "O gap maximo do numero 441 binario 110111001 possui o numero de 2 zero(s)\n",
            "O gap maximo do numero 442 binario 110111010 possui o numero de 1 zero(s)\n",
            "O gap maximo do numero 443 binario 110111011 possui o numero de 1 zero(s)\n",
            "O gap maximo do numero 444 binario 110111100 possui o numero de 1 zero(s)\n",
            "O gap maximo do numero 445 binario 110111101 possui o numero de 1 zero(s)\n",
            "O gap maximo do numero 446 binario 110111110 possui o numero de 1 zero(s)\n",
            "O gap maximo do numero 447 binario 110111111 possui o numero de 1 zero(s)\n",
            "O gap maximo do numero 448 binario 111000000 possui o numero de 0 zero(s)\n",
            "O gap maximo do numero 449 binario 111000001 possui o numero de 5 zero(s)\n",
            "O gap maximo do numero 450 binario 111000010 possui o numero de 4 zero(s)\n",
            "O gap maximo do numero 451 binario 111000011 possui o numero de 4 zero(s)\n",
            "O gap maximo do numero 452 binario 111000100 possui o numero de 3 zero(s)\n",
            "O gap maximo do numero 453 binario 111000101 possui o numero de 3 zero(s)\n",
            "O gap maximo do numero 454 binario 111000110 possui o numero de 3 zero(s)\n",
            "O gap maximo do numero 455 binario 111000111 possui o numero de 3 zero(s)\n",
            "O gap maximo do numero 456 binario 111001000 possui o numero de 2 zero(s)\n",
            "O gap maximo do numero 457 binario 111001001 possui o numero de 2 zero(s)\n",
            "O gap maximo do numero 458 binario 111001010 possui o numero de 2 zero(s)\n",
            "O gap maximo do numero 459 binario 111001011 possui o numero de 2 zero(s)\n",
            "O gap maximo do numero 460 binario 111001100 possui o numero de 2 zero(s)\n",
            "O gap maximo do numero 461 binario 111001101 possui o numero de 2 zero(s)\n",
            "O gap maximo do numero 462 binario 111001110 possui o numero de 2 zero(s)\n",
            "O gap maximo do numero 463 binario 111001111 possui o numero de 2 zero(s)\n",
            "O gap maximo do numero 464 binario 111010000 possui o numero de 1 zero(s)\n",
            "O gap maximo do numero 465 binario 111010001 possui o numero de 3 zero(s)\n",
            "O gap maximo do numero 466 binario 111010010 possui o numero de 2 zero(s)\n",
            "O gap maximo do numero 467 binario 111010011 possui o numero de 2 zero(s)\n",
            "O gap maximo do numero 468 binario 111010100 possui o numero de 1 zero(s)\n",
            "O gap maximo do numero 469 binario 111010101 possui o numero de 2 zero(s)\n",
            "O gap maximo do numero 470 binario 111010110 possui o numero de 1 zero(s)\n",
            "O gap maximo do numero 471 binario 111010111 possui o numero de 1 zero(s)\n",
            "O gap maximo do numero 472 binario 111011000 possui o numero de 1 zero(s)\n",
            "O gap maximo do numero 473 binario 111011001 possui o numero de 2 zero(s)\n",
            "O gap maximo do numero 474 binario 111011010 possui o numero de 1 zero(s)\n",
            "O gap maximo do numero 475 binario 111011011 possui o numero de 1 zero(s)\n",
            "O gap maximo do numero 476 binario 111011100 possui o numero de 1 zero(s)\n",
            "O gap maximo do numero 477 binario 111011101 possui o numero de 1 zero(s)\n",
            "O gap maximo do numero 478 binario 111011110 possui o numero de 1 zero(s)\n",
            "O gap maximo do numero 479 binario 111011111 possui o numero de 1 zero(s)\n",
            "O gap maximo do numero 480 binario 111100000 possui o numero de 0 zero(s)\n",
            "O gap maximo do numero 481 binario 111100001 possui o numero de 4 zero(s)\n",
            "O gap maximo do numero 482 binario 111100010 possui o numero de 3 zero(s)\n",
            "O gap maximo do numero 483 binario 111100011 possui o numero de 3 zero(s)\n",
            "O gap maximo do numero 484 binario 111100100 possui o numero de 2 zero(s)\n",
            "O gap maximo do numero 485 binario 111100101 possui o numero de 2 zero(s)\n",
            "O gap maximo do numero 486 binario 111100110 possui o numero de 2 zero(s)\n",
            "O gap maximo do numero 487 binario 111100111 possui o numero de 2 zero(s)\n",
            "O gap maximo do numero 488 binario 111101000 possui o numero de 1 zero(s)\n",
            "O gap maximo do numero 489 binario 111101001 possui o numero de 2 zero(s)\n",
            "O gap maximo do numero 490 binario 111101010 possui o numero de 1 zero(s)\n",
            "O gap maximo do numero 491 binario 111101011 possui o numero de 1 zero(s)\n",
            "O gap maximo do numero 492 binario 111101100 possui o numero de 1 zero(s)\n",
            "O gap maximo do numero 493 binario 111101101 possui o numero de 1 zero(s)\n",
            "O gap maximo do numero 494 binario 111101110 possui o numero de 1 zero(s)\n",
            "O gap maximo do numero 495 binario 111101111 possui o numero de 1 zero(s)\n",
            "O gap maximo do numero 496 binario 111110000 possui o numero de 0 zero(s)\n",
            "O gap maximo do numero 497 binario 111110001 possui o numero de 3 zero(s)\n",
            "O gap maximo do numero 498 binario 111110010 possui o numero de 2 zero(s)\n",
            "O gap maximo do numero 499 binario 111110011 possui o numero de 2 zero(s)\n",
            "O gap maximo do numero 500 binario 111110100 possui o numero de 1 zero(s)\n",
            "O gap maximo do numero 501 binario 111110101 possui o numero de 1 zero(s)\n",
            "O gap maximo do numero 502 binario 111110110 possui o numero de 1 zero(s)\n",
            "O gap maximo do numero 503 binario 111110111 possui o numero de 1 zero(s)\n",
            "O gap maximo do numero 504 binario 111111000 possui o numero de 0 zero(s)\n",
            "O gap maximo do numero 505 binario 111111001 possui o numero de 2 zero(s)\n",
            "O gap maximo do numero 506 binario 111111010 possui o numero de 1 zero(s)\n",
            "O gap maximo do numero 507 binario 111111011 possui o numero de 1 zero(s)\n",
            "O gap maximo do numero 508 binario 111111100 possui o numero de 0 zero(s)\n",
            "O gap maximo do numero 509 binario 111111101 possui o numero de 1 zero(s)\n",
            "O gap maximo do numero 510 binario 111111110 possui o numero de 0 zero(s)\n",
            "O gap maximo do numero 511 binario 111111111 possui o numero de 0 zero(s)\n",
            "O gap maximo do numero 512 binario 1000000000 possui o numero de 0 zero(s)\n",
            "O gap maximo do numero 513 binario 1000000001 possui o numero de 8 zero(s)\n",
            "O gap maximo do numero 514 binario 1000000010 possui o numero de 7 zero(s)\n",
            "O gap maximo do numero 515 binario 1000000011 possui o numero de 7 zero(s)\n",
            "O gap maximo do numero 516 binario 1000000100 possui o numero de 6 zero(s)\n",
            "O gap maximo do numero 517 binario 1000000101 possui o numero de 6 zero(s)\n",
            "O gap maximo do numero 518 binario 1000000110 possui o numero de 6 zero(s)\n",
            "O gap maximo do numero 519 binario 1000000111 possui o numero de 6 zero(s)\n",
            "O gap maximo do numero 520 binario 1000001000 possui o numero de 5 zero(s)\n",
            "O gap maximo do numero 521 binario 1000001001 possui o numero de 5 zero(s)\n",
            "O gap maximo do numero 522 binario 1000001010 possui o numero de 5 zero(s)\n",
            "O gap maximo do numero 523 binario 1000001011 possui o numero de 5 zero(s)\n",
            "O gap maximo do numero 524 binario 1000001100 possui o numero de 5 zero(s)\n",
            "O gap maximo do numero 525 binario 1000001101 possui o numero de 5 zero(s)\n",
            "O gap maximo do numero 526 binario 1000001110 possui o numero de 5 zero(s)\n",
            "O gap maximo do numero 527 binario 1000001111 possui o numero de 5 zero(s)\n",
            "O gap maximo do numero 528 binario 1000010000 possui o numero de 4 zero(s)\n",
            "O gap maximo do numero 529 binario 1000010001 possui o numero de 4 zero(s)\n",
            "O gap maximo do numero 530 binario 1000010010 possui o numero de 4 zero(s)\n",
            "O gap maximo do numero 531 binario 1000010011 possui o numero de 4 zero(s)\n",
            "O gap maximo do numero 532 binario 1000010100 possui o numero de 4 zero(s)\n",
            "O gap maximo do numero 533 binario 1000010101 possui o numero de 4 zero(s)\n",
            "O gap maximo do numero 534 binario 1000010110 possui o numero de 4 zero(s)\n",
            "O gap maximo do numero 535 binario 1000010111 possui o numero de 4 zero(s)\n",
            "O gap maximo do numero 536 binario 1000011000 possui o numero de 4 zero(s)\n",
            "O gap maximo do numero 537 binario 1000011001 possui o numero de 4 zero(s)\n",
            "O gap maximo do numero 538 binario 1000011010 possui o numero de 4 zero(s)\n",
            "O gap maximo do numero 539 binario 1000011011 possui o numero de 4 zero(s)\n",
            "O gap maximo do numero 540 binario 1000011100 possui o numero de 4 zero(s)\n",
            "O gap maximo do numero 541 binario 1000011101 possui o numero de 4 zero(s)\n",
            "O gap maximo do numero 542 binario 1000011110 possui o numero de 4 zero(s)\n",
            "O gap maximo do numero 543 binario 1000011111 possui o numero de 4 zero(s)\n",
            "O gap maximo do numero 544 binario 1000100000 possui o numero de 3 zero(s)\n",
            "O gap maximo do numero 545 binario 1000100001 possui o numero de 4 zero(s)\n",
            "O gap maximo do numero 546 binario 1000100010 possui o numero de 3 zero(s)\n",
            "O gap maximo do numero 547 binario 1000100011 possui o numero de 3 zero(s)\n",
            "O gap maximo do numero 548 binario 1000100100 possui o numero de 3 zero(s)\n",
            "O gap maximo do numero 549 binario 1000100101 possui o numero de 3 zero(s)\n",
            "O gap maximo do numero 550 binario 1000100110 possui o numero de 3 zero(s)\n",
            "O gap maximo do numero 551 binario 1000100111 possui o numero de 3 zero(s)\n",
            "O gap maximo do numero 552 binario 1000101000 possui o numero de 3 zero(s)\n",
            "O gap maximo do numero 553 binario 1000101001 possui o numero de 3 zero(s)\n",
            "O gap maximo do numero 554 binario 1000101010 possui o numero de 3 zero(s)\n",
            "O gap maximo do numero 555 binario 1000101011 possui o numero de 3 zero(s)\n",
            "O gap maximo do numero 556 binario 1000101100 possui o numero de 3 zero(s)\n",
            "O gap maximo do numero 557 binario 1000101101 possui o numero de 3 zero(s)\n",
            "O gap maximo do numero 558 binario 1000101110 possui o numero de 3 zero(s)\n",
            "O gap maximo do numero 559 binario 1000101111 possui o numero de 3 zero(s)\n",
            "O gap maximo do numero 560 binario 1000110000 possui o numero de 3 zero(s)\n",
            "O gap maximo do numero 561 binario 1000110001 possui o numero de 3 zero(s)\n",
            "O gap maximo do numero 562 binario 1000110010 possui o numero de 3 zero(s)\n",
            "O gap maximo do numero 563 binario 1000110011 possui o numero de 3 zero(s)\n",
            "O gap maximo do numero 564 binario 1000110100 possui o numero de 3 zero(s)\n",
            "O gap maximo do numero 565 binario 1000110101 possui o numero de 3 zero(s)\n",
            "O gap maximo do numero 566 binario 1000110110 possui o numero de 3 zero(s)\n",
            "O gap maximo do numero 567 binario 1000110111 possui o numero de 3 zero(s)\n",
            "O gap maximo do numero 568 binario 1000111000 possui o numero de 3 zero(s)\n",
            "O gap maximo do numero 569 binario 1000111001 possui o numero de 3 zero(s)\n",
            "O gap maximo do numero 570 binario 1000111010 possui o numero de 3 zero(s)\n",
            "O gap maximo do numero 571 binario 1000111011 possui o numero de 3 zero(s)\n",
            "O gap maximo do numero 572 binario 1000111100 possui o numero de 3 zero(s)\n",
            "O gap maximo do numero 573 binario 1000111101 possui o numero de 3 zero(s)\n",
            "O gap maximo do numero 574 binario 1000111110 possui o numero de 3 zero(s)\n",
            "O gap maximo do numero 575 binario 1000111111 possui o numero de 3 zero(s)\n",
            "O gap maximo do numero 576 binario 1001000000 possui o numero de 2 zero(s)\n",
            "O gap maximo do numero 577 binario 1001000001 possui o numero de 5 zero(s)\n",
            "O gap maximo do numero 578 binario 1001000010 possui o numero de 4 zero(s)\n",
            "O gap maximo do numero 579 binario 1001000011 possui o numero de 4 zero(s)\n",
            "O gap maximo do numero 580 binario 1001000100 possui o numero de 3 zero(s)\n",
            "O gap maximo do numero 581 binario 1001000101 possui o numero de 3 zero(s)\n",
            "O gap maximo do numero 582 binario 1001000110 possui o numero de 3 zero(s)\n",
            "O gap maximo do numero 583 binario 1001000111 possui o numero de 3 zero(s)\n",
            "O gap maximo do numero 584 binario 1001001000 possui o numero de 2 zero(s)\n",
            "O gap maximo do numero 585 binario 1001001001 possui o numero de 4 zero(s)\n",
            "O gap maximo do numero 586 binario 1001001010 possui o numero de 3 zero(s)\n",
            "O gap maximo do numero 587 binario 1001001011 possui o numero de 3 zero(s)\n",
            "O gap maximo do numero 588 binario 1001001100 possui o numero de 2 zero(s)\n",
            "O gap maximo do numero 589 binario 1001001101 possui o numero de 3 zero(s)\n",
            "O gap maximo do numero 590 binario 1001001110 possui o numero de 2 zero(s)\n",
            "O gap maximo do numero 591 binario 1001001111 possui o numero de 2 zero(s)\n",
            "O gap maximo do numero 592 binario 1001010000 possui o numero de 2 zero(s)\n",
            "O gap maximo do numero 593 binario 1001010001 possui o numero de 4 zero(s)\n",
            "O gap maximo do numero 594 binario 1001010010 possui o numero de 3 zero(s)\n",
            "O gap maximo do numero 595 binario 1001010011 possui o numero de 3 zero(s)\n",
            "O gap maximo do numero 596 binario 1001010100 possui o numero de 2 zero(s)\n",
            "O gap maximo do numero 597 binario 1001010101 possui o numero de 3 zero(s)\n",
            "O gap maximo do numero 598 binario 1001010110 possui o numero de 2 zero(s)\n",
            "O gap maximo do numero 599 binario 1001010111 possui o numero de 2 zero(s)\n",
            "O gap maximo do numero 600 binario 1001011000 possui o numero de 2 zero(s)\n",
            "O gap maximo do numero 601 binario 1001011001 possui o numero de 3 zero(s)\n",
            "O gap maximo do numero 602 binario 1001011010 possui o numero de 2 zero(s)\n",
            "O gap maximo do numero 603 binario 1001011011 possui o numero de 2 zero(s)\n",
            "O gap maximo do numero 604 binario 1001011100 possui o numero de 2 zero(s)\n",
            "O gap maximo do numero 605 binario 1001011101 possui o numero de 2 zero(s)\n",
            "O gap maximo do numero 606 binario 1001011110 possui o numero de 2 zero(s)\n",
            "O gap maximo do numero 607 binario 1001011111 possui o numero de 2 zero(s)\n",
            "O gap maximo do numero 608 binario 1001100000 possui o numero de 2 zero(s)\n",
            "O gap maximo do numero 609 binario 1001100001 possui o numero de 4 zero(s)\n",
            "O gap maximo do numero 610 binario 1001100010 possui o numero de 3 zero(s)\n",
            "O gap maximo do numero 611 binario 1001100011 possui o numero de 3 zero(s)\n",
            "O gap maximo do numero 612 binario 1001100100 possui o numero de 2 zero(s)\n",
            "O gap maximo do numero 613 binario 1001100101 possui o numero de 3 zero(s)\n",
            "O gap maximo do numero 614 binario 1001100110 possui o numero de 2 zero(s)\n",
            "O gap maximo do numero 615 binario 1001100111 possui o numero de 2 zero(s)\n",
            "O gap maximo do numero 616 binario 1001101000 possui o numero de 2 zero(s)\n",
            "O gap maximo do numero 617 binario 1001101001 possui o numero de 3 zero(s)\n",
            "O gap maximo do numero 618 binario 1001101010 possui o numero de 2 zero(s)\n",
            "O gap maximo do numero 619 binario 1001101011 possui o numero de 2 zero(s)\n",
            "O gap maximo do numero 620 binario 1001101100 possui o numero de 2 zero(s)\n",
            "O gap maximo do numero 621 binario 1001101101 possui o numero de 2 zero(s)\n",
            "O gap maximo do numero 622 binario 1001101110 possui o numero de 2 zero(s)\n",
            "O gap maximo do numero 623 binario 1001101111 possui o numero de 2 zero(s)\n",
            "O gap maximo do numero 624 binario 1001110000 possui o numero de 2 zero(s)\n",
            "O gap maximo do numero 625 binario 1001110001 possui o numero de 3 zero(s)\n",
            "O gap maximo do numero 626 binario 1001110010 possui o numero de 2 zero(s)\n",
            "O gap maximo do numero 627 binario 1001110011 possui o numero de 2 zero(s)\n",
            "O gap maximo do numero 628 binario 1001110100 possui o numero de 2 zero(s)\n",
            "O gap maximo do numero 629 binario 1001110101 possui o numero de 2 zero(s)\n",
            "O gap maximo do numero 630 binario 1001110110 possui o numero de 2 zero(s)\n",
            "O gap maximo do numero 631 binario 1001110111 possui o numero de 2 zero(s)\n",
            "O gap maximo do numero 632 binario 1001111000 possui o numero de 2 zero(s)\n",
            "O gap maximo do numero 633 binario 1001111001 possui o numero de 2 zero(s)\n",
            "O gap maximo do numero 634 binario 1001111010 possui o numero de 2 zero(s)\n",
            "O gap maximo do numero 635 binario 1001111011 possui o numero de 2 zero(s)\n",
            "O gap maximo do numero 636 binario 1001111100 possui o numero de 2 zero(s)\n",
            "O gap maximo do numero 637 binario 1001111101 possui o numero de 2 zero(s)\n",
            "O gap maximo do numero 638 binario 1001111110 possui o numero de 2 zero(s)\n",
            "O gap maximo do numero 639 binario 1001111111 possui o numero de 2 zero(s)\n",
            "O gap maximo do numero 640 binario 1010000000 possui o numero de 1 zero(s)\n",
            "O gap maximo do numero 641 binario 1010000001 possui o numero de 6 zero(s)\n",
            "O gap maximo do numero 642 binario 1010000010 possui o numero de 5 zero(s)\n",
            "O gap maximo do numero 643 binario 1010000011 possui o numero de 5 zero(s)\n",
            "O gap maximo do numero 644 binario 1010000100 possui o numero de 4 zero(s)\n",
            "O gap maximo do numero 645 binario 1010000101 possui o numero de 4 zero(s)\n",
            "O gap maximo do numero 646 binario 1010000110 possui o numero de 4 zero(s)\n",
            "O gap maximo do numero 647 binario 1010000111 possui o numero de 4 zero(s)\n"
          ]
        }
      ]
    },
    {
      "cell_type": "markdown",
      "metadata": {
        "id": "cp52SAH3M1Az"
      },
      "source": [
        "## Aparentemente funcionou, porém, é necessário testar na plataforma para ter o retorno do score. Vamos montar a função solicitada no problema."
      ]
    },
    {
      "cell_type": "code",
      "metadata": {
        "id": "r3lLyEWivoqf"
      },
      "source": [
        "def solution(N):\n",
        "  b = bin(N)[2:]\n",
        "  max_gap = 0 #variavel recebe o numero do gap maximo\n",
        "  zero = 0 #variavel recebe a contagem do(s) zero(s)\n",
        "\n",
        "  for i in range(0, len(b)):\n",
        "        #Conta o número de zeros\n",
        "        if b[i] == '0':\n",
        "          zero += 1\n",
        "        \n",
        "        #Atualiza a contagem do gap maior, caso haja. Zera a contagem de zeros.\n",
        "        else:\n",
        "          if zero > max_gap:\n",
        "            max_gap = zero\n",
        "            zero = 0\n",
        "            \n",
        "  return max_gap"
      ],
      "execution_count": null,
      "outputs": []
    },
    {
      "cell_type": "markdown",
      "metadata": {
        "id": "xrL9TfioOe5t"
      },
      "source": [
        "## Últimos testes com os números 9, 15, 20, 32, 529, 1041."
      ]
    },
    {
      "cell_type": "markdown",
      "metadata": {
        "id": "Tg_Li_p4Oqw9"
      },
      "source": [
        "## Teste com o número 9: A função deve retornar o número 2."
      ]
    },
    {
      "cell_type": "code",
      "metadata": {
        "colab": {
          "base_uri": "https://localhost:8080/"
        },
        "id": "xxB7JlmFwIqz",
        "outputId": "57d3ae75-451e-474a-d8e8-64a234423d8e"
      },
      "source": [
        "n = 9\n",
        "gap = solution(n)\n",
        "if gap == 2: #Se função retornar 2 então está correta.\n",
        "  print(f'Função está retornando o valor correto! Para o número {n}')"
      ],
      "execution_count": null,
      "outputs": [
        {
          "output_type": "stream",
          "name": "stdout",
          "text": [
            "Função está retornando o valor correto! Para o número 9\n"
          ]
        }
      ]
    },
    {
      "cell_type": "markdown",
      "metadata": {
        "id": "-Qk0-7HSPdkc"
      },
      "source": [
        "## Teste com o número 15: A função deve retornar o número 0."
      ]
    },
    {
      "cell_type": "code",
      "metadata": {
        "colab": {
          "base_uri": "https://localhost:8080/"
        },
        "id": "LURteGLvPeMM",
        "outputId": "40ea6ade-a8ec-44ea-a08a-960eabb66316"
      },
      "source": [
        "n = 15\n",
        "gap = solution(n)\n",
        "if gap == 0: #se função retornar 0 então está correta\n",
        "  print(f'Função está retornando o valor correto! Para o número {n}')"
      ],
      "execution_count": null,
      "outputs": [
        {
          "output_type": "stream",
          "name": "stdout",
          "text": [
            "Função está retornando o valor correto! Para o número 15\n"
          ]
        }
      ]
    },
    {
      "cell_type": "markdown",
      "metadata": {
        "id": "EISVN4cZPeWd"
      },
      "source": [
        "## Teste com o número 20: A função deve retornar o número 1."
      ]
    },
    {
      "cell_type": "code",
      "metadata": {
        "colab": {
          "base_uri": "https://localhost:8080/"
        },
        "id": "xnbFZ95pPegt",
        "outputId": "ff16f16e-db0a-42bb-e445-a7fc1a656f2f"
      },
      "source": [
        "n = 20\n",
        "gap = solution(n)\n",
        "if gap == 1: #se função retornar 1 entã está correta.\n",
        "  print(f'Função está retornando o valor correto! Para o número {n}')"
      ],
      "execution_count": null,
      "outputs": [
        {
          "output_type": "stream",
          "name": "stdout",
          "text": [
            "Função está retornando o valor correto! Para o número 20\n"
          ]
        }
      ]
    },
    {
      "cell_type": "markdown",
      "metadata": {
        "id": "AFSBXc7APes1"
      },
      "source": [
        "## Teste com o número 32: A função deve retornar o número 0."
      ]
    },
    {
      "cell_type": "code",
      "metadata": {
        "colab": {
          "base_uri": "https://localhost:8080/"
        },
        "id": "2LMfTVjnPe4D",
        "outputId": "bbba6ce9-3538-42d9-ff69-187599bd3385"
      },
      "source": [
        "n = 32\n",
        "gap = solution(n)\n",
        "if gap == 0: #se função retornar 0 então está correta.\n",
        "  print(f'Função está retornando o valor correto! Para o número {n}')"
      ],
      "execution_count": null,
      "outputs": [
        {
          "output_type": "stream",
          "name": "stdout",
          "text": [
            "Função está retornando o valor correto! Para o número 32\n"
          ]
        }
      ]
    },
    {
      "cell_type": "markdown",
      "metadata": {
        "id": "K9T-22eHPfEV"
      },
      "source": [
        "## Teste com o número 529: A função deve retornar o número 4."
      ]
    },
    {
      "cell_type": "code",
      "metadata": {
        "colab": {
          "base_uri": "https://localhost:8080/"
        },
        "id": "dn9hyz7ePfPj",
        "outputId": "649e531c-e9e7-47a3-f35b-06be56e8f49d"
      },
      "source": [
        "n = 529\n",
        "gap = solution(n)\n",
        "if gap == 4: #se função retornar 4 então está correta.\n",
        "  print(f'Função está retornando o valor correto! Para o número {n}')"
      ],
      "execution_count": null,
      "outputs": [
        {
          "output_type": "stream",
          "name": "stdout",
          "text": [
            "Função está retornando o valor correto! Para o número 529\n"
          ]
        }
      ]
    },
    {
      "cell_type": "markdown",
      "metadata": {
        "id": "DqMl2cXlPfZ1"
      },
      "source": [
        "## Teste com o número 1041: A função deve retornar o número 5."
      ]
    },
    {
      "cell_type": "code",
      "metadata": {
        "colab": {
          "base_uri": "https://localhost:8080/"
        },
        "id": "1--_iKdoPfhu",
        "outputId": "cc1bb8cd-1fc7-44ed-8090-ac9eeb1a6206"
      },
      "source": [
        "n = 1041\n",
        "gap = solution(n)\n",
        "if gap == 5: #se função retornar 5 está correta.\n",
        "  print(f'Função está retornando o valor correto! Para o número {n}')"
      ],
      "execution_count": null,
      "outputs": [
        {
          "output_type": "stream",
          "name": "stdout",
          "text": [
            "Função está retornando o valor correto! Para o número 1041\n"
          ]
        }
      ]
    },
    {
      "cell_type": "markdown",
      "metadata": {
        "id": "hicgpN4lv-Wd"
      },
      "source": [
        "## Após testar na plataforma a função consegue retornar o valor correto em 80% dos casos testados na plataforma. \n",
        "\n",
        "## Observação: Para testar e obter os resultados detalhados do teste, é necessário logar na plataforma acessar o 'binary gap' e submeter o código detro do ambiente criado para avaliação. Além do score, a plataforma vai lhe fornecer dados de performance e erros em resultados de testes."
      ]
    },
    {
      "cell_type": "markdown",
      "metadata": {
        "id": "nfRfj05xBfFf"
      },
      "source": [
        "# **Resultados do teste**\n",
        "\n",
        "\n",
        "\n",
        "## Está ocorrendo erro de contagem de gaq quando na função são aplicados esses 3 valores inteiros:\n",
        "\n",
        "## A- n=561892, got 4 expected 3 (Retornou valor de gap igual a 4 quando na realidade o gap máximo é 3);\n",
        "\n",
        "## B- n=74901729, got 6 expected 4;\n",
        "\n",
        "## C- n=1376796946, got 8 expected 5"
      ]
    },
    {
      "cell_type": "markdown",
      "metadata": {
        "id": "AC2FQZYDB6xI"
      },
      "source": [
        "\n",
        "## Vou analisar o funcionamento do meu código utilizando esses três números:"
      ]
    },
    {
      "cell_type": "code",
      "metadata": {
        "colab": {
          "base_uri": "https://localhost:8080/"
        },
        "id": "S8dT7bqBtWp0",
        "outputId": "e1a1f20f-2077-468a-d9af-c9454f8894e7"
      },
      "source": [
        "n=561892 #got 4 expected 3\n",
        "\n",
        "N = n\n",
        "b = bin(N)[2:]\n",
        "max_gap = 0 #variavel recebe o numero do gap maximo\n",
        "zero = 0 #variavel recebe a contagem do(s) zero(s)\n",
        "\n",
        "for i in range(0, len(b)):\n",
        "      #Conta o número de zeros\n",
        "      if b[i] == '0':\n",
        "        zero += 1\n",
        "      \n",
        "      #Atualiza a contagem do gap maior, caso haja. Zera a contagem de zeros.\n",
        "      else:\n",
        "        if zero > max_gap:\n",
        "          max_gap = zero\n",
        "          zero = 0\n",
        "\n",
        "  \n",
        "print(f'O gap maximo do numero {N} binario {b} possui o numero de {max_gap} zero(s).')"
      ],
      "execution_count": null,
      "outputs": [
        {
          "output_type": "stream",
          "name": "stdout",
          "text": [
            "O gap maximo do numero 561892 binario 10001001001011100100 possui o numero de 4 zero(s).\n"
          ]
        }
      ]
    },
    {
      "cell_type": "code",
      "metadata": {
        "colab": {
          "base_uri": "https://localhost:8080/"
        },
        "id": "VchJEip6tXXT",
        "outputId": "e4c786eb-3e41-4d63-a384-62f7416ae65c"
      },
      "source": [
        "n=74901729 #got 6 expected 4\n",
        "\n",
        "N = n\n",
        "b = bin(N)[2:]\n",
        "max_gap = 0 #variavel recebe o numero do gap maximo\n",
        "zero = 0 #variavel recebe a contagem do(s) zero(s)\n",
        "\n",
        "for i in range(0, len(b)):\n",
        "      #Conta o número de zeros\n",
        "      if b[i] == '0':\n",
        "        zero += 1\n",
        "      \n",
        "      #Atualiza a contagem do gap maior, caso haja. Zera a contagem de zeros.\n",
        "      else:\n",
        "        if zero > max_gap:\n",
        "          max_gap = zero\n",
        "          zero = 0\n",
        "\n",
        "  \n",
        "print(f'O gap maximo do numero {N} binario {b} possui o numero de {max_gap} zero(s).')"
      ],
      "execution_count": null,
      "outputs": [
        {
          "output_type": "stream",
          "name": "stdout",
          "text": [
            "O gap maximo do numero 74901729 binario 100011101101110100011100001 possui o numero de 6 zero(s).\n"
          ]
        }
      ]
    },
    {
      "cell_type": "code",
      "metadata": {
        "colab": {
          "base_uri": "https://localhost:8080/"
        },
        "id": "-iQDC6G7tgHU",
        "outputId": "82bc7ba0-24bb-4b1b-d197-37305cdd72ad"
      },
      "source": [
        "n=1376796946 #got 8 expected 5\n",
        "\n",
        "N = n\n",
        "b = bin(N)[2:]\n",
        "max_gap = 0 #variavel recebe o numero do gap maximo\n",
        "zero = 0 #variavel recebe a contagem do(s) zero(s)\n",
        "\n",
        "for i in range(0, len(b)):\n",
        "      #Conta o número de zeros\n",
        "      if b[i] == '0':\n",
        "        zero += 1\n",
        "      \n",
        "      #Atualiza a contagem do gap maior, caso haja. Zera a contagem de zeros.\n",
        "      else:\n",
        "        if zero > max_gap:\n",
        "          max_gap = zero\n",
        "          zero = 0\n",
        "\n",
        "  \n",
        "print(f'O gap maximo do numero {N} binario {b} possui o numero de {max_gap} zero(s).')"
      ],
      "execution_count": null,
      "outputs": [
        {
          "output_type": "stream",
          "name": "stdout",
          "text": [
            "O gap maximo do numero 1376796946 binario 1010010000100000100000100010010 possui o numero de 8 zero(s).\n"
          ]
        }
      ]
    },
    {
      "cell_type": "markdown",
      "metadata": {
        "id": "yeNZSxIvxOi-"
      },
      "source": [
        "## Vou tentar verificar onde está o erro utilizando o primeiro número n=561892 onde há uma gap máximo de 3 porém foram contabilizados 4. Vou testar frame a frame para saber onde está o erro verificando 4 variáveis: o index (contagem loop), o algarismo binário analisado ('0' ou '1'), a contagem de zeros e o gap maximo registrado."
      ]
    },
    {
      "cell_type": "markdown",
      "metadata": {
        "id": "VK42qYzT1oZv"
      },
      "source": [
        "## **Primeiro loop (i=0)**"
      ]
    },
    {
      "cell_type": "code",
      "metadata": {
        "colab": {
          "base_uri": "https://localhost:8080/"
        },
        "id": "ApettF3Axlnm",
        "outputId": "e945d5eb-c0b9-4ca8-fd01-92ea303add81"
      },
      "source": [
        "# primeiro loop (i= 0)\n",
        "n=561892 #got 4 expected 3, binary form 10001001001011100100, len = 20\n",
        "\n",
        "N = n\n",
        "b = bin(N)[2:]\n",
        "max_gap = 0 #variavel recebe o numero do gap maximo\n",
        "zero = 0 #variavel recebe a contagem do(s) zero(s)\n",
        "\n",
        "i = 0\n",
        "\n",
        "#Conta o número de zeros\n",
        "if b[i] == '0':\n",
        "  zero += 1\n",
        "\n",
        "#Atualiza a contagem do gap maior, caso haja. Zera a contagem de zeros.\n",
        "else:\n",
        "  if zero > max_gap:\n",
        "    max_gap = zero\n",
        "    zero = 0\n",
        "\n",
        "  \n",
        "print(f'index = {i}, binary number = {b[i]}, Zero count in {zero}, max_gap = {max_gap}')"
      ],
      "execution_count": null,
      "outputs": [
        {
          "output_type": "stream",
          "name": "stdout",
          "text": [
            "index = 0, binary number = 1, Zero count in 0, max_gap = 0\n"
          ]
        }
      ]
    },
    {
      "cell_type": "markdown",
      "metadata": {
        "id": "MUJSMCcXCYE5"
      },
      "source": [
        "## primeiro loop ok"
      ]
    },
    {
      "cell_type": "markdown",
      "metadata": {
        "id": "op3_S1S21-Og"
      },
      "source": [
        "## **Segundo loop (i = 1)**"
      ]
    },
    {
      "cell_type": "code",
      "metadata": {
        "colab": {
          "base_uri": "https://localhost:8080/"
        },
        "id": "H6vO2IWA0ETr",
        "outputId": "a7547ecc-3e0b-47e3-a5cf-1a5b32210303"
      },
      "source": [
        "#   Segundo loop (i = 1)\n",
        "\n",
        "#   Observacao: para imitar o funcionamento perfeito da funcao\n",
        "# alteramos o código a partir daqui, as variáveis 'zero' e max_gap \n",
        "# so podem funcionar abaixo das condicionais e nao acima).\n",
        "\n",
        "n=561892 #got 4 expected 3, binary form 10001001001011100100, len = 20\n",
        "\n",
        "N = n\n",
        "b = bin(N)[2:]\n",
        "\n",
        "i = 1\n",
        "\n",
        "#Conta o número de zeros\n",
        "if b[i] == '0':\n",
        "  zero += 1\n",
        "\n",
        "#Atualiza a contagem do gap maior, caso haja. Zera a contagem de zeros.\n",
        "else:\n",
        "  if zero > max_gap:\n",
        "    max_gap = zero\n",
        "    zero = 0\n",
        "\n",
        "  \n",
        "print(f'index = {i}, binary number = {b[i]}, Zero count in {zero}, max_gap = {max_gap}')"
      ],
      "execution_count": null,
      "outputs": [
        {
          "output_type": "stream",
          "name": "stdout",
          "text": [
            "index = 1, binary number = 0, Zero count in 1, max_gap = 0\n"
          ]
        }
      ]
    },
    {
      "cell_type": "markdown",
      "metadata": {
        "id": "nv1FTGONCebO"
      },
      "source": [
        "## segundo loop ok"
      ]
    },
    {
      "cell_type": "markdown",
      "metadata": {
        "id": "0Z0zxx4B12Ai"
      },
      "source": [
        "## **Terceiro loop (i = 2)**"
      ]
    },
    {
      "cell_type": "code",
      "metadata": {
        "colab": {
          "base_uri": "https://localhost:8080/"
        },
        "id": "zZM8WsMZ1NH_",
        "outputId": "c321afea-d96c-4733-c334-174f1a6692c8"
      },
      "source": [
        "#   terceiro loop (i = 2)\n",
        "\n",
        "#   Observacao: para imitar o funcionamento perfeito da funcao\n",
        "# alteramos o código a partir daqui, as variáveis 'zero' e max_gap \n",
        "# so podem funcionar abaixo das condicionais e nao acima).\n",
        "\n",
        "n=561892 #got 4 expected 3, binary form 10001001001011100100, len = 20\n",
        "\n",
        "N = n\n",
        "b = bin(N)[2:]\n",
        "\n",
        "i = 2\n",
        "\n",
        "#Conta o número de zeros\n",
        "if b[i] == '0':\n",
        "  zero += 1\n",
        "\n",
        "#Atualiza a contagem do gap maior, caso haja. Zera a contagem de zeros.\n",
        "else:\n",
        "  if zero > max_gap:\n",
        "    max_gap = zero\n",
        "    zero = 0\n",
        "\n",
        "  \n",
        "print(f'index = {i}, binary number = {b[i]}, Zero count in {zero}, max_gap = {max_gap}')"
      ],
      "execution_count": null,
      "outputs": [
        {
          "output_type": "stream",
          "name": "stdout",
          "text": [
            "index = 2, binary number = 0, Zero count in 2, max_gap = 0\n"
          ]
        }
      ]
    },
    {
      "cell_type": "markdown",
      "metadata": {
        "id": "F584oZN5ChfZ"
      },
      "source": [
        "## terceiro loop ok"
      ]
    },
    {
      "cell_type": "markdown",
      "metadata": {
        "id": "TEckWw4b3QFA"
      },
      "source": [
        "## **Quarto loop (i = 3)**"
      ]
    },
    {
      "cell_type": "code",
      "metadata": {
        "colab": {
          "base_uri": "https://localhost:8080/"
        },
        "id": "dwwFo4B91Tb_",
        "outputId": "284c8bb1-06be-4978-e6d4-78d1018b24a0"
      },
      "source": [
        "#   quarto loop (i = 3)\n",
        "\n",
        "#   Observacao: para imitar o funcionamento perfeito da funcao\n",
        "# alteramos o código a partir daqui, as variáveis 'zero' e max_gap \n",
        "# so podem funcionar abaixo das condicionais e nao acima).\n",
        "\n",
        "n=561892 #got 4 expected 3, binary form 10001001001011100100, len = 20\n",
        "\n",
        "N = n\n",
        "b = bin(N)[2:]\n",
        "\n",
        "i = 3\n",
        "\n",
        "#Conta o número de zeros\n",
        "if b[i] == '0':\n",
        "  zero += 1\n",
        "\n",
        "#Atualiza a contagem do gap maior, caso haja. Zera a contagem de zeros.\n",
        "else:\n",
        "  if zero > max_gap:\n",
        "    max_gap = zero\n",
        "    zero = 0\n",
        "\n",
        "  \n",
        "print(f'index = {i}, binary number = {b[i]}, Zero count in {zero}, max_gap = {max_gap}')"
      ],
      "execution_count": null,
      "outputs": [
        {
          "output_type": "stream",
          "name": "stdout",
          "text": [
            "index = 3, binary number = 0, Zero count in 3, max_gap = 0\n"
          ]
        }
      ]
    },
    {
      "cell_type": "markdown",
      "metadata": {
        "id": "1w1dHMokDBWe"
      },
      "source": [
        "## quarto loop ok"
      ]
    },
    {
      "cell_type": "markdown",
      "metadata": {
        "id": "NWPA6kw53ARv"
      },
      "source": [
        "## **Quinto loop (i = 4)**"
      ]
    },
    {
      "cell_type": "code",
      "metadata": {
        "colab": {
          "base_uri": "https://localhost:8080/"
        },
        "id": "aJRcJWIw2u6o",
        "outputId": "8fe14ab8-6d3d-4e07-ab38-a1384ba4a6ba"
      },
      "source": [
        "#   quinto loop (i = 4)\n",
        "\n",
        "#   Observacao: para imitar o funcionamento perfeito da funcao\n",
        "# alteramos o código a partir daqui, as variáveis 'zero' e max_gap \n",
        "# so podem funcionar abaixo das condicionais e nao acima).\n",
        "\n",
        "n=561892 #got 4 expected 3, binary form 10001001001011100100, len = 20\n",
        "\n",
        "N = n\n",
        "b = bin(N)[2:]\n",
        "\n",
        "i = 4\n",
        "\n",
        "#Conta o número de zeros\n",
        "if b[i] == '0':\n",
        "  zero += 1\n",
        "\n",
        "#Atualiza a contagem do gap maior, caso haja. Zera a contagem de zeros.\n",
        "else:\n",
        "  if zero > max_gap:\n",
        "    max_gap = zero\n",
        "    zero = 0\n",
        "\n",
        "  \n",
        "print(f'index = {i}, binary number = {b[i]}, Zero count in {zero}, max_gap = {max_gap}')"
      ],
      "execution_count": null,
      "outputs": [
        {
          "output_type": "stream",
          "name": "stdout",
          "text": [
            "index = 4, binary number = 1, Zero count in 0, max_gap = 3\n"
          ]
        }
      ]
    },
    {
      "cell_type": "markdown",
      "metadata": {
        "id": "Q3K4_B1kDEbH"
      },
      "source": [
        "## quinto loop ok"
      ]
    },
    {
      "cell_type": "markdown",
      "metadata": {
        "id": "30b1N_zN3hMj"
      },
      "source": [
        "## **Sexto loop (i = 5)**"
      ]
    },
    {
      "cell_type": "code",
      "metadata": {
        "colab": {
          "base_uri": "https://localhost:8080/"
        },
        "id": "CIKt-57j3lLv",
        "outputId": "04489011-5e78-4382-b3fb-0c791e7accc6"
      },
      "source": [
        "#   sexto loop (i = 5)\n",
        "\n",
        "#   Observacao: para imitar o funcionamento perfeito da funcao\n",
        "# alteramos o código a partir daqui, as variáveis 'zero' e max_gap \n",
        "# so podem funcionar abaixo das condicionais e nao acima).\n",
        "\n",
        "n=561892 #got 4 expected 3, binary form 10001001001011100100, len = 20\n",
        "\n",
        "N = n\n",
        "b = bin(N)[2:]\n",
        "\n",
        "i = 5\n",
        "\n",
        "#Conta o número de zeros\n",
        "if b[i] == '0':\n",
        "  zero += 1\n",
        "\n",
        "#Atualiza a contagem do gap maior, caso haja. Zera a contagem de zeros.\n",
        "else:\n",
        "  if zero > max_gap:\n",
        "    max_gap = zero\n",
        "    zero = 0\n",
        "\n",
        "  \n",
        "print(f'index = {i}, binary number = {b[i]}, Zero count in {zero}, max_gap = {max_gap}')"
      ],
      "execution_count": null,
      "outputs": [
        {
          "output_type": "stream",
          "name": "stdout",
          "text": [
            "index = 5, binary number = 0, Zero count in 1, max_gap = 3\n"
          ]
        }
      ]
    },
    {
      "cell_type": "markdown",
      "metadata": {
        "id": "NVVbt9h5DaqA"
      },
      "source": [
        "## sexto loop ok"
      ]
    },
    {
      "cell_type": "markdown",
      "metadata": {
        "id": "ZfT56YBM3kOw"
      },
      "source": [
        "## **Sétimo loop (i = 6)**"
      ]
    },
    {
      "cell_type": "code",
      "metadata": {
        "colab": {
          "base_uri": "https://localhost:8080/"
        },
        "id": "5yf3uVWX3qaX",
        "outputId": "6f910ca3-48b8-40f1-b8d8-a266dea6c77a"
      },
      "source": [
        "#   setimo loop (i = 6)\n",
        "\n",
        "#   Observacao: para imitar o funcionamento perfeito da funcao\n",
        "# alteramos o código a partir daqui, as variáveis 'zero' e max_gap \n",
        "# so podem funcionar abaixo das condicionais e nao acima).\n",
        "\n",
        "n=561892 #got 4 expected 3, binary form 10001001001011100100, len = 20\n",
        "\n",
        "N = n\n",
        "b = bin(N)[2:]\n",
        "\n",
        "i = 6\n",
        "\n",
        "#Conta o número de zeros\n",
        "if b[i] == '0':\n",
        "  zero += 1\n",
        "\n",
        "#Atualiza a contagem do gap maior, caso haja. Zera a contagem de zeros.\n",
        "else:\n",
        "  if zero > max_gap:\n",
        "    max_gap = zero\n",
        "    zero = 0\n",
        "\n",
        "  \n",
        "print(f'index = {i}, binary number = {b[i]}, Zero count in {zero}, max_gap = {max_gap}')"
      ],
      "execution_count": null,
      "outputs": [
        {
          "output_type": "stream",
          "name": "stdout",
          "text": [
            "index = 6, binary number = 0, Zero count in 2, max_gap = 3\n"
          ]
        }
      ]
    },
    {
      "cell_type": "markdown",
      "metadata": {
        "id": "wpzeABBTENw8"
      },
      "source": [
        "## sétimo loop ok"
      ]
    },
    {
      "cell_type": "markdown",
      "metadata": {
        "id": "1QBKLRr23q23"
      },
      "source": [
        "## **Oitavo loop (i = 7)**"
      ]
    },
    {
      "cell_type": "code",
      "metadata": {
        "colab": {
          "base_uri": "https://localhost:8080/"
        },
        "id": "Y7UlnXzb3vXr",
        "outputId": "6cf2d999-e90d-4b5e-ee7c-8bdc9ee2763f"
      },
      "source": [
        "#   oitavo loop (i = 7)\n",
        "\n",
        "#   Observacao: para imitar o funcionamento perfeito da funcao\n",
        "# alteramos o código a partir daqui, as variáveis 'zero' e max_gap \n",
        "# so podem funcionar abaixo das condicionais e nao acima).\n",
        "\n",
        "n=561892 #got 4 expected 3, binary form 10001001001011100100, len = 20\n",
        "\n",
        "N = n\n",
        "b = bin(N)[2:]\n",
        "\n",
        "i = 7\n",
        "\n",
        "#Conta o número de zeros\n",
        "if b[i] == '0':\n",
        "  zero += 1\n",
        "\n",
        "#Atualiza a contagem do gap maior, caso haja. Zera a contagem de zeros.\n",
        "else:\n",
        "  if zero > max_gap:\n",
        "    max_gap = zero\n",
        "    zero = 0\n",
        "\n",
        "  \n",
        "print(f'index = {i}, binary number = {b[i]}, Zero count in {zero}, max_gap = {max_gap}')"
      ],
      "execution_count": null,
      "outputs": [
        {
          "output_type": "stream",
          "name": "stdout",
          "text": [
            "index = 7, binary number = 1, Zero count in 2, max_gap = 3\n"
          ]
        }
      ]
    },
    {
      "cell_type": "markdown",
      "metadata": {
        "id": "Cs5XD1RBERTY"
      },
      "source": [
        "## oitavo loop não ok"
      ]
    },
    {
      "cell_type": "markdown",
      "metadata": {
        "id": "_3xew0hz7MlE"
      },
      "source": [
        "## Aqui temos um problema, a contagem do zero deveria ser zerada e não permanecer em 2. A contagem do zero deve ser zerada toda vez que existe um valor um, porém, no código acima utilizado, a contagem de zero só é zerada se o dígito binário for '1' e a contagem do zero for maior que max_gap. É uma condição dupla (AND), quando deveria atender à apenas uma: dígito binário '1'."
      ]
    },
    {
      "cell_type": "markdown",
      "metadata": {
        "id": "boQVKSRIEwbO"
      },
      "source": [
        "## Preciso corrigir e resetar a contagem do zero toda vez que aparecer um número 1 independente se a contagem de zero for maior que max_gap. Acredito que o problema será resolvido, vou ajustar o código da maneira descrita abaixo."
      ]
    },
    {
      "cell_type": "markdown",
      "metadata": {
        "id": "uxhf3ekoE-Ua"
      },
      "source": [
        "## Trecho do  código original a ser modificado está assim:\n",
        "\n",
        "####Atualiza a contagem do gap maior, caso haja.\n",
        "        else:\n",
        "            if zero > max_gap:\n",
        "                max_gap = zero\n",
        "                zero = 0"
      ]
    },
    {
      "cell_type": "markdown",
      "metadata": {
        "id": "JQwIwOJuFaKC"
      },
      "source": [
        "## O ajuste é apenas de indentação da variável zero no código acima, para que a cada dígito '1' a contagem de zeros seja resetada (reiniciada). O código com a alteração fica dessa forma:"
      ]
    },
    {
      "cell_type": "markdown",
      "metadata": {
        "id": "BsRp1_PtGSjS"
      },
      "source": [
        "####Atualiza a contagem do gap maior, caso haja.\n",
        "        else:\n",
        "            if zero > max_gap:\n",
        "                max_gap = zero\n",
        "            zero = 0 #Zera a contagem de zeros em b[i] == '1'"
      ]
    },
    {
      "cell_type": "markdown",
      "metadata": {
        "id": "eHfKtUGM3vu5"
      },
      "source": [
        "## Após o ajuste do reset da contagem de zero(s), vou retestar os valores:\n",
        "\n",
        "## A- n=561892, got 4 expected 3;\n",
        "## B- n=74901729, got 6 expected 4;\n",
        "## C- n=1376796946, got 8 expected 5"
      ]
    },
    {
      "cell_type": "code",
      "metadata": {
        "id": "k82n1pbnXkSw"
      },
      "source": [
        "def solution(N):\n",
        "    b = bin(N)[2:]\n",
        "    max_gap = 0 #variavel recebe o numero do gap maximo\n",
        "    zero = 0 #variavel recebe a contagem do(s) zero(s)\n",
        "\n",
        "    for i in range(0, len(b)):\n",
        "        #Conta o número de zeros\n",
        "        if b[i] == '0':\n",
        "            zero += 1\n",
        "            \n",
        "        #Atualiza a contagem do gap maior, caso haja.\n",
        "        else:\n",
        "            if zero > max_gap:\n",
        "                max_gap = zero\n",
        "            zero = 0 #Zera a contagem de zeros em b[i] == '1'\n",
        "                \n",
        "    return max_gap"
      ],
      "execution_count": null,
      "outputs": []
    },
    {
      "cell_type": "markdown",
      "metadata": {
        "id": "HZEhizlAYDe_"
      },
      "source": [
        "## Teste 1\n",
        "\n",
        "## A- n=561892, got 4 expected 3;\n",
        "\n",
        "## Observacao: O valor esperado no retorno da funcao: 3"
      ]
    },
    {
      "cell_type": "code",
      "metadata": {
        "colab": {
          "base_uri": "https://localhost:8080/"
        },
        "id": "WaGYUcweYIkt",
        "outputId": "cc1959db-7227-4da3-c2c6-afe13c0eb325"
      },
      "source": [
        "n = solution(561892)\n",
        "if n == 3:\n",
        "  print(f'Função solution ajustada com sucesso!')"
      ],
      "execution_count": null,
      "outputs": [
        {
          "output_type": "stream",
          "name": "stdout",
          "text": [
            "Funcao solution ajustada com sucesso!\n"
          ]
        }
      ]
    },
    {
      "cell_type": "markdown",
      "metadata": {
        "id": "cpawhMheYIwM"
      },
      "source": [
        "## Teste 2\n",
        "\n",
        "## B- n=74901729, got 6 expected 4;\n",
        "\n",
        "## Observacao: O valor esperado no retorno da funcao: 4"
      ]
    },
    {
      "cell_type": "code",
      "metadata": {
        "colab": {
          "base_uri": "https://localhost:8080/"
        },
        "id": "3_dIS5kpYJd-",
        "outputId": "aa5f410f-74db-4fc3-e19d-dc32879b4791"
      },
      "source": [
        "n = solution(74901729)\n",
        "if n == 4:\n",
        "  print(f'Função solution ajustada com sucesso!')"
      ],
      "execution_count": null,
      "outputs": [
        {
          "output_type": "stream",
          "name": "stdout",
          "text": [
            "Funcao solution ajustada com sucesso!\n"
          ]
        }
      ]
    },
    {
      "cell_type": "markdown",
      "metadata": {
        "id": "YZgz1JdXYJp7"
      },
      "source": [
        "## Teste 3\n",
        "\n",
        "## C- n=1376796946, got 8 expected 5\n",
        "\n",
        "## Observacao: O valor esperado no retorno da funcao: 5"
      ]
    },
    {
      "cell_type": "code",
      "metadata": {
        "colab": {
          "base_uri": "https://localhost:8080/"
        },
        "id": "A-lI6fjiYKcX",
        "outputId": "4d63a41c-8cb1-4900-c636-b260152032fd"
      },
      "source": [
        "n = solution(1376796946)\n",
        "if n == 5:\n",
        "  print(f'Função solution ajustada com sucesso!')"
      ],
      "execution_count": null,
      "outputs": [
        {
          "output_type": "stream",
          "name": "stdout",
          "text": [
            "Funcao solution ajustada com sucesso!\n"
          ]
        }
      ]
    },
    {
      "cell_type": "markdown",
      "metadata": {
        "id": "JXC-cF2yGvTS"
      },
      "source": [
        "## Após os novos testes na plataforma codility, cheguei ao score desejado: 100%."
      ]
    },
    {
      "cell_type": "markdown",
      "metadata": {
        "id": "CHu9UNo9ZvvH"
      },
      "source": [
        "## A função que resolve o problema binary gap da plataforma codility é:"
      ]
    },
    {
      "cell_type": "code",
      "metadata": {
        "id": "-S302B02Z2JZ"
      },
      "source": [
        "def solution(N):\n",
        "    b = bin(N)[2:]\n",
        "    max_gap = 0 #variavel recebe o numero do gap maximo\n",
        "    zero = 0 #variavel recebe a contagem do(s) zero(s)\n",
        "\n",
        "    for i in range(0, len(b)):\n",
        "        #Conta o número de zeros\n",
        "        if b[i] == '0': #se o algarismo for 0\n",
        "            zero += 1\n",
        "            \n",
        "        #Atualiza a contagem do gap maior, caso haja.\n",
        "        else: #se o algarismo for 1\n",
        "            if zero > max_gap:\n",
        "                max_gap = zero #atualiza a contagem do gap maximo\n",
        "            zero = 0 #Zera a contagem de zeros em b[i] == '1'\n",
        "                \n",
        "    return max_gap #retorna o valor do gap maximo."
      ],
      "execution_count": null,
      "outputs": []
    },
    {
      "cell_type": "markdown",
      "metadata": {
        "id": "wcM1uzwfRa1S"
      },
      "source": [
        "## **PROBLEMA FINALIZADO COM SUCESSO! BINARY GAP DA PLATAFORMA CODILITY**"
      ]
    }
  ]
}